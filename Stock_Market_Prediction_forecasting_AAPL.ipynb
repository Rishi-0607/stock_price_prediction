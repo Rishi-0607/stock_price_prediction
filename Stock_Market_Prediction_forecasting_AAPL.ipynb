{
  "nbformat": 4,
  "nbformat_minor": 0,
  "metadata": {
    "colab": {
      "provenance": [],
      "authorship_tag": "ABX9TyNVFsrhSqQhtUhFd9oN1cEu",
      "include_colab_link": true
    },
    "kernelspec": {
      "name": "python3",
      "display_name": "Python 3"
    },
    "language_info": {
      "name": "python"
    }
  },
  "cells": [
    {
      "cell_type": "markdown",
      "metadata": {
        "id": "view-in-github",
        "colab_type": "text"
      },
      "source": [
        "<a href=\"https://colab.research.google.com/github/Rishi-0607/stock_price_prediction/blob/main/Stock_Market_Prediction_forecasting_AAPL.ipynb\" target=\"_parent\"><img src=\"https://colab.research.google.com/assets/colab-badge.svg\" alt=\"Open In Colab\"/></a>"
      ]
    },
    {
      "cell_type": "code",
      "source": [
        "# used libraries keras and tensorflow >2.0"
      ],
      "metadata": {
        "id": "O51555c387x2"
      },
      "execution_count": 29,
      "outputs": []
    },
    {
      "cell_type": "code",
      "execution_count": 30,
      "metadata": {
        "id": "lpmYOSo88plT"
      },
      "outputs": [],
      "source": [
        "import pandas_datareader as pdr\n",
        "\n",
        "key = \"ec71219134f6e016adb86095c76c516a5b2e4914\""
      ]
    },
    {
      "cell_type": "code",
      "source": [
        "df = pdr.get_data_tiingo('AAPL',api_key=key)"
      ],
      "metadata": {
        "colab": {
          "base_uri": "https://localhost:8080/"
        },
        "id": "xUKjm2sE9OOG",
        "outputId": "ed33c342-402f-4198-fe02-dd282df2b23a"
      },
      "execution_count": 31,
      "outputs": [
        {
          "output_type": "stream",
          "name": "stderr",
          "text": [
            "<ipython-input-31-6eddcb5f2c35>:1: FutureWarning: In a future version of pandas all arguments of concat except for the argument 'objs' will be keyword-only.\n",
            "  df = pdr.get_data_tiingo('AAPL',api_key=key)\n"
          ]
        }
      ]
    },
    {
      "cell_type": "code",
      "source": [
        "df.to_csv('AAPL.csv')"
      ],
      "metadata": {
        "id": "ImcUMYuhCDhx"
      },
      "execution_count": 32,
      "outputs": []
    },
    {
      "cell_type": "code",
      "source": [
        "import pandas as pd"
      ],
      "metadata": {
        "id": "zP0b9zffCgef"
      },
      "execution_count": 33,
      "outputs": []
    },
    {
      "cell_type": "code",
      "source": [
        "df = pd.read_csv('/content/AAPL.csv')"
      ],
      "metadata": {
        "id": "erPd1OqkC367"
      },
      "execution_count": 34,
      "outputs": []
    },
    {
      "cell_type": "code",
      "source": [
        "df.head()"
      ],
      "metadata": {
        "colab": {
          "base_uri": "https://localhost:8080/",
          "height": 206
        },
        "id": "bk6Dfm47C-z3",
        "outputId": "46da933b-0a53-434f-a71b-e1dd73e57ae5"
      },
      "execution_count": 35,
      "outputs": [
        {
          "output_type": "execute_result",
          "data": {
            "text/plain": [
              "  symbol                       date   close    high     low    open    volume  \\\n",
              "0   AAPL  2019-01-07 00:00:00+00:00  147.93  148.83  145.90  148.70  54777764   \n",
              "1   AAPL  2019-01-08 00:00:00+00:00  150.75  151.82  148.52  149.56  41025314   \n",
              "2   AAPL  2019-01-09 00:00:00+00:00  153.31  154.53  149.63  151.29  45099081   \n",
              "3   AAPL  2019-01-10 00:00:00+00:00  153.80  153.97  150.86  152.50  35780670   \n",
              "4   AAPL  2019-01-11 00:00:00+00:00  152.29  153.70  151.51  152.88  27023241   \n",
              "\n",
              "    adjClose    adjHigh     adjLow    adjOpen  adjVolume  divCash  splitFactor  \n",
              "0  35.495091  35.711042  35.008003  35.679849  219111056      0.0          1.0  \n",
              "1  36.171737  36.428478  35.636659  35.886202  164101256      0.0          1.0  \n",
              "2  36.785996  37.078729  35.902998  36.301307  180396324      0.0          1.0  \n",
              "3  36.903569  36.944360  36.198131  36.591641  143122680      0.0          1.0  \n",
              "4  36.541252  36.879575  36.354095  36.682820  108092964      0.0          1.0  "
            ],
            "text/html": [
              "\n",
              "  <div id=\"df-fdadfc1d-3c3b-431e-9bd7-cbe24e5903d3\" class=\"colab-df-container\">\n",
              "    <div>\n",
              "<style scoped>\n",
              "    .dataframe tbody tr th:only-of-type {\n",
              "        vertical-align: middle;\n",
              "    }\n",
              "\n",
              "    .dataframe tbody tr th {\n",
              "        vertical-align: top;\n",
              "    }\n",
              "\n",
              "    .dataframe thead th {\n",
              "        text-align: right;\n",
              "    }\n",
              "</style>\n",
              "<table border=\"1\" class=\"dataframe\">\n",
              "  <thead>\n",
              "    <tr style=\"text-align: right;\">\n",
              "      <th></th>\n",
              "      <th>symbol</th>\n",
              "      <th>date</th>\n",
              "      <th>close</th>\n",
              "      <th>high</th>\n",
              "      <th>low</th>\n",
              "      <th>open</th>\n",
              "      <th>volume</th>\n",
              "      <th>adjClose</th>\n",
              "      <th>adjHigh</th>\n",
              "      <th>adjLow</th>\n",
              "      <th>adjOpen</th>\n",
              "      <th>adjVolume</th>\n",
              "      <th>divCash</th>\n",
              "      <th>splitFactor</th>\n",
              "    </tr>\n",
              "  </thead>\n",
              "  <tbody>\n",
              "    <tr>\n",
              "      <th>0</th>\n",
              "      <td>AAPL</td>\n",
              "      <td>2019-01-07 00:00:00+00:00</td>\n",
              "      <td>147.93</td>\n",
              "      <td>148.83</td>\n",
              "      <td>145.90</td>\n",
              "      <td>148.70</td>\n",
              "      <td>54777764</td>\n",
              "      <td>35.495091</td>\n",
              "      <td>35.711042</td>\n",
              "      <td>35.008003</td>\n",
              "      <td>35.679849</td>\n",
              "      <td>219111056</td>\n",
              "      <td>0.0</td>\n",
              "      <td>1.0</td>\n",
              "    </tr>\n",
              "    <tr>\n",
              "      <th>1</th>\n",
              "      <td>AAPL</td>\n",
              "      <td>2019-01-08 00:00:00+00:00</td>\n",
              "      <td>150.75</td>\n",
              "      <td>151.82</td>\n",
              "      <td>148.52</td>\n",
              "      <td>149.56</td>\n",
              "      <td>41025314</td>\n",
              "      <td>36.171737</td>\n",
              "      <td>36.428478</td>\n",
              "      <td>35.636659</td>\n",
              "      <td>35.886202</td>\n",
              "      <td>164101256</td>\n",
              "      <td>0.0</td>\n",
              "      <td>1.0</td>\n",
              "    </tr>\n",
              "    <tr>\n",
              "      <th>2</th>\n",
              "      <td>AAPL</td>\n",
              "      <td>2019-01-09 00:00:00+00:00</td>\n",
              "      <td>153.31</td>\n",
              "      <td>154.53</td>\n",
              "      <td>149.63</td>\n",
              "      <td>151.29</td>\n",
              "      <td>45099081</td>\n",
              "      <td>36.785996</td>\n",
              "      <td>37.078729</td>\n",
              "      <td>35.902998</td>\n",
              "      <td>36.301307</td>\n",
              "      <td>180396324</td>\n",
              "      <td>0.0</td>\n",
              "      <td>1.0</td>\n",
              "    </tr>\n",
              "    <tr>\n",
              "      <th>3</th>\n",
              "      <td>AAPL</td>\n",
              "      <td>2019-01-10 00:00:00+00:00</td>\n",
              "      <td>153.80</td>\n",
              "      <td>153.97</td>\n",
              "      <td>150.86</td>\n",
              "      <td>152.50</td>\n",
              "      <td>35780670</td>\n",
              "      <td>36.903569</td>\n",
              "      <td>36.944360</td>\n",
              "      <td>36.198131</td>\n",
              "      <td>36.591641</td>\n",
              "      <td>143122680</td>\n",
              "      <td>0.0</td>\n",
              "      <td>1.0</td>\n",
              "    </tr>\n",
              "    <tr>\n",
              "      <th>4</th>\n",
              "      <td>AAPL</td>\n",
              "      <td>2019-01-11 00:00:00+00:00</td>\n",
              "      <td>152.29</td>\n",
              "      <td>153.70</td>\n",
              "      <td>151.51</td>\n",
              "      <td>152.88</td>\n",
              "      <td>27023241</td>\n",
              "      <td>36.541252</td>\n",
              "      <td>36.879575</td>\n",
              "      <td>36.354095</td>\n",
              "      <td>36.682820</td>\n",
              "      <td>108092964</td>\n",
              "      <td>0.0</td>\n",
              "      <td>1.0</td>\n",
              "    </tr>\n",
              "  </tbody>\n",
              "</table>\n",
              "</div>\n",
              "    <div class=\"colab-df-buttons\">\n",
              "\n",
              "  <div class=\"colab-df-container\">\n",
              "    <button class=\"colab-df-convert\" onclick=\"convertToInteractive('df-fdadfc1d-3c3b-431e-9bd7-cbe24e5903d3')\"\n",
              "            title=\"Convert this dataframe to an interactive table.\"\n",
              "            style=\"display:none;\">\n",
              "\n",
              "  <svg xmlns=\"http://www.w3.org/2000/svg\" height=\"24px\" viewBox=\"0 -960 960 960\">\n",
              "    <path d=\"M120-120v-720h720v720H120Zm60-500h600v-160H180v160Zm220 220h160v-160H400v160Zm0 220h160v-160H400v160ZM180-400h160v-160H180v160Zm440 0h160v-160H620v160ZM180-180h160v-160H180v160Zm440 0h160v-160H620v160Z\"/>\n",
              "  </svg>\n",
              "    </button>\n",
              "\n",
              "  <style>\n",
              "    .colab-df-container {\n",
              "      display:flex;\n",
              "      gap: 12px;\n",
              "    }\n",
              "\n",
              "    .colab-df-convert {\n",
              "      background-color: #E8F0FE;\n",
              "      border: none;\n",
              "      border-radius: 50%;\n",
              "      cursor: pointer;\n",
              "      display: none;\n",
              "      fill: #1967D2;\n",
              "      height: 32px;\n",
              "      padding: 0 0 0 0;\n",
              "      width: 32px;\n",
              "    }\n",
              "\n",
              "    .colab-df-convert:hover {\n",
              "      background-color: #E2EBFA;\n",
              "      box-shadow: 0px 1px 2px rgba(60, 64, 67, 0.3), 0px 1px 3px 1px rgba(60, 64, 67, 0.15);\n",
              "      fill: #174EA6;\n",
              "    }\n",
              "\n",
              "    .colab-df-buttons div {\n",
              "      margin-bottom: 4px;\n",
              "    }\n",
              "\n",
              "    [theme=dark] .colab-df-convert {\n",
              "      background-color: #3B4455;\n",
              "      fill: #D2E3FC;\n",
              "    }\n",
              "\n",
              "    [theme=dark] .colab-df-convert:hover {\n",
              "      background-color: #434B5C;\n",
              "      box-shadow: 0px 1px 3px 1px rgba(0, 0, 0, 0.15);\n",
              "      filter: drop-shadow(0px 1px 2px rgba(0, 0, 0, 0.3));\n",
              "      fill: #FFFFFF;\n",
              "    }\n",
              "  </style>\n",
              "\n",
              "    <script>\n",
              "      const buttonEl =\n",
              "        document.querySelector('#df-fdadfc1d-3c3b-431e-9bd7-cbe24e5903d3 button.colab-df-convert');\n",
              "      buttonEl.style.display =\n",
              "        google.colab.kernel.accessAllowed ? 'block' : 'none';\n",
              "\n",
              "      async function convertToInteractive(key) {\n",
              "        const element = document.querySelector('#df-fdadfc1d-3c3b-431e-9bd7-cbe24e5903d3');\n",
              "        const dataTable =\n",
              "          await google.colab.kernel.invokeFunction('convertToInteractive',\n",
              "                                                    [key], {});\n",
              "        if (!dataTable) return;\n",
              "\n",
              "        const docLinkHtml = 'Like what you see? Visit the ' +\n",
              "          '<a target=\"_blank\" href=https://colab.research.google.com/notebooks/data_table.ipynb>data table notebook</a>'\n",
              "          + ' to learn more about interactive tables.';\n",
              "        element.innerHTML = '';\n",
              "        dataTable['output_type'] = 'display_data';\n",
              "        await google.colab.output.renderOutput(dataTable, element);\n",
              "        const docLink = document.createElement('div');\n",
              "        docLink.innerHTML = docLinkHtml;\n",
              "        element.appendChild(docLink);\n",
              "      }\n",
              "    </script>\n",
              "  </div>\n",
              "\n",
              "\n",
              "<div id=\"df-9ae19ca7-aa16-458a-a17b-2fa4e1c27f98\">\n",
              "  <button class=\"colab-df-quickchart\" onclick=\"quickchart('df-9ae19ca7-aa16-458a-a17b-2fa4e1c27f98')\"\n",
              "            title=\"Suggest charts\"\n",
              "            style=\"display:none;\">\n",
              "\n",
              "<svg xmlns=\"http://www.w3.org/2000/svg\" height=\"24px\"viewBox=\"0 0 24 24\"\n",
              "     width=\"24px\">\n",
              "    <g>\n",
              "        <path d=\"M19 3H5c-1.1 0-2 .9-2 2v14c0 1.1.9 2 2 2h14c1.1 0 2-.9 2-2V5c0-1.1-.9-2-2-2zM9 17H7v-7h2v7zm4 0h-2V7h2v10zm4 0h-2v-4h2v4z\"/>\n",
              "    </g>\n",
              "</svg>\n",
              "  </button>\n",
              "\n",
              "<style>\n",
              "  .colab-df-quickchart {\n",
              "      --bg-color: #E8F0FE;\n",
              "      --fill-color: #1967D2;\n",
              "      --hover-bg-color: #E2EBFA;\n",
              "      --hover-fill-color: #174EA6;\n",
              "      --disabled-fill-color: #AAA;\n",
              "      --disabled-bg-color: #DDD;\n",
              "  }\n",
              "\n",
              "  [theme=dark] .colab-df-quickchart {\n",
              "      --bg-color: #3B4455;\n",
              "      --fill-color: #D2E3FC;\n",
              "      --hover-bg-color: #434B5C;\n",
              "      --hover-fill-color: #FFFFFF;\n",
              "      --disabled-bg-color: #3B4455;\n",
              "      --disabled-fill-color: #666;\n",
              "  }\n",
              "\n",
              "  .colab-df-quickchart {\n",
              "    background-color: var(--bg-color);\n",
              "    border: none;\n",
              "    border-radius: 50%;\n",
              "    cursor: pointer;\n",
              "    display: none;\n",
              "    fill: var(--fill-color);\n",
              "    height: 32px;\n",
              "    padding: 0;\n",
              "    width: 32px;\n",
              "  }\n",
              "\n",
              "  .colab-df-quickchart:hover {\n",
              "    background-color: var(--hover-bg-color);\n",
              "    box-shadow: 0 1px 2px rgba(60, 64, 67, 0.3), 0 1px 3px 1px rgba(60, 64, 67, 0.15);\n",
              "    fill: var(--button-hover-fill-color);\n",
              "  }\n",
              "\n",
              "  .colab-df-quickchart-complete:disabled,\n",
              "  .colab-df-quickchart-complete:disabled:hover {\n",
              "    background-color: var(--disabled-bg-color);\n",
              "    fill: var(--disabled-fill-color);\n",
              "    box-shadow: none;\n",
              "  }\n",
              "\n",
              "  .colab-df-spinner {\n",
              "    border: 2px solid var(--fill-color);\n",
              "    border-color: transparent;\n",
              "    border-bottom-color: var(--fill-color);\n",
              "    animation:\n",
              "      spin 1s steps(1) infinite;\n",
              "  }\n",
              "\n",
              "  @keyframes spin {\n",
              "    0% {\n",
              "      border-color: transparent;\n",
              "      border-bottom-color: var(--fill-color);\n",
              "      border-left-color: var(--fill-color);\n",
              "    }\n",
              "    20% {\n",
              "      border-color: transparent;\n",
              "      border-left-color: var(--fill-color);\n",
              "      border-top-color: var(--fill-color);\n",
              "    }\n",
              "    30% {\n",
              "      border-color: transparent;\n",
              "      border-left-color: var(--fill-color);\n",
              "      border-top-color: var(--fill-color);\n",
              "      border-right-color: var(--fill-color);\n",
              "    }\n",
              "    40% {\n",
              "      border-color: transparent;\n",
              "      border-right-color: var(--fill-color);\n",
              "      border-top-color: var(--fill-color);\n",
              "    }\n",
              "    60% {\n",
              "      border-color: transparent;\n",
              "      border-right-color: var(--fill-color);\n",
              "    }\n",
              "    80% {\n",
              "      border-color: transparent;\n",
              "      border-right-color: var(--fill-color);\n",
              "      border-bottom-color: var(--fill-color);\n",
              "    }\n",
              "    90% {\n",
              "      border-color: transparent;\n",
              "      border-bottom-color: var(--fill-color);\n",
              "    }\n",
              "  }\n",
              "</style>\n",
              "\n",
              "  <script>\n",
              "    async function quickchart(key) {\n",
              "      const quickchartButtonEl =\n",
              "        document.querySelector('#' + key + ' button');\n",
              "      quickchartButtonEl.disabled = true;  // To prevent multiple clicks.\n",
              "      quickchartButtonEl.classList.add('colab-df-spinner');\n",
              "      try {\n",
              "        const charts = await google.colab.kernel.invokeFunction(\n",
              "            'suggestCharts', [key], {});\n",
              "      } catch (error) {\n",
              "        console.error('Error during call to suggestCharts:', error);\n",
              "      }\n",
              "      quickchartButtonEl.classList.remove('colab-df-spinner');\n",
              "      quickchartButtonEl.classList.add('colab-df-quickchart-complete');\n",
              "    }\n",
              "    (() => {\n",
              "      let quickchartButtonEl =\n",
              "        document.querySelector('#df-9ae19ca7-aa16-458a-a17b-2fa4e1c27f98 button');\n",
              "      quickchartButtonEl.style.display =\n",
              "        google.colab.kernel.accessAllowed ? 'block' : 'none';\n",
              "    })();\n",
              "  </script>\n",
              "</div>\n",
              "\n",
              "    </div>\n",
              "  </div>\n"
            ]
          },
          "metadata": {},
          "execution_count": 35
        }
      ]
    },
    {
      "cell_type": "code",
      "source": [
        "df.tail()"
      ],
      "metadata": {
        "colab": {
          "base_uri": "https://localhost:8080/",
          "height": 206
        },
        "id": "S15dKydmDAfy",
        "outputId": "22473403-5f25-4353-b2ce-5179325d25c9"
      },
      "execution_count": 36,
      "outputs": [
        {
          "output_type": "execute_result",
          "data": {
            "text/plain": [
              "     symbol                       date   close      high      low    open  \\\n",
              "1253   AAPL  2023-12-28 00:00:00+00:00  193.58  194.6600  193.170  194.14   \n",
              "1254   AAPL  2023-12-29 00:00:00+00:00  192.53  194.4000  191.725  193.90   \n",
              "1255   AAPL  2024-01-02 00:00:00+00:00  185.64  188.4400  183.885  187.15   \n",
              "1256   AAPL  2024-01-03 00:00:00+00:00  184.25  185.8800  183.430  184.22   \n",
              "1257   AAPL  2024-01-04 00:00:00+00:00  181.91  183.0872  180.880  182.15   \n",
              "\n",
              "        volume  adjClose   adjHigh   adjLow  adjOpen  adjVolume  divCash  \\\n",
              "1253  34049898    193.58  194.6600  193.170   194.14   34049898      0.0   \n",
              "1254  42672148    192.53  194.4000  191.725   193.90   42672148      0.0   \n",
              "1255  82488674    185.64  188.4400  183.885   187.15   82488674      0.0   \n",
              "1256  58414460    184.25  185.8800  183.430   184.22   58414460      0.0   \n",
              "1257  71983570    181.91  183.0872  180.880   182.15   71983570      0.0   \n",
              "\n",
              "      splitFactor  \n",
              "1253          1.0  \n",
              "1254          1.0  \n",
              "1255          1.0  \n",
              "1256          1.0  \n",
              "1257          1.0  "
            ],
            "text/html": [
              "\n",
              "  <div id=\"df-01daca24-8338-4485-93a5-cc944eb98c4f\" class=\"colab-df-container\">\n",
              "    <div>\n",
              "<style scoped>\n",
              "    .dataframe tbody tr th:only-of-type {\n",
              "        vertical-align: middle;\n",
              "    }\n",
              "\n",
              "    .dataframe tbody tr th {\n",
              "        vertical-align: top;\n",
              "    }\n",
              "\n",
              "    .dataframe thead th {\n",
              "        text-align: right;\n",
              "    }\n",
              "</style>\n",
              "<table border=\"1\" class=\"dataframe\">\n",
              "  <thead>\n",
              "    <tr style=\"text-align: right;\">\n",
              "      <th></th>\n",
              "      <th>symbol</th>\n",
              "      <th>date</th>\n",
              "      <th>close</th>\n",
              "      <th>high</th>\n",
              "      <th>low</th>\n",
              "      <th>open</th>\n",
              "      <th>volume</th>\n",
              "      <th>adjClose</th>\n",
              "      <th>adjHigh</th>\n",
              "      <th>adjLow</th>\n",
              "      <th>adjOpen</th>\n",
              "      <th>adjVolume</th>\n",
              "      <th>divCash</th>\n",
              "      <th>splitFactor</th>\n",
              "    </tr>\n",
              "  </thead>\n",
              "  <tbody>\n",
              "    <tr>\n",
              "      <th>1253</th>\n",
              "      <td>AAPL</td>\n",
              "      <td>2023-12-28 00:00:00+00:00</td>\n",
              "      <td>193.58</td>\n",
              "      <td>194.6600</td>\n",
              "      <td>193.170</td>\n",
              "      <td>194.14</td>\n",
              "      <td>34049898</td>\n",
              "      <td>193.58</td>\n",
              "      <td>194.6600</td>\n",
              "      <td>193.170</td>\n",
              "      <td>194.14</td>\n",
              "      <td>34049898</td>\n",
              "      <td>0.0</td>\n",
              "      <td>1.0</td>\n",
              "    </tr>\n",
              "    <tr>\n",
              "      <th>1254</th>\n",
              "      <td>AAPL</td>\n",
              "      <td>2023-12-29 00:00:00+00:00</td>\n",
              "      <td>192.53</td>\n",
              "      <td>194.4000</td>\n",
              "      <td>191.725</td>\n",
              "      <td>193.90</td>\n",
              "      <td>42672148</td>\n",
              "      <td>192.53</td>\n",
              "      <td>194.4000</td>\n",
              "      <td>191.725</td>\n",
              "      <td>193.90</td>\n",
              "      <td>42672148</td>\n",
              "      <td>0.0</td>\n",
              "      <td>1.0</td>\n",
              "    </tr>\n",
              "    <tr>\n",
              "      <th>1255</th>\n",
              "      <td>AAPL</td>\n",
              "      <td>2024-01-02 00:00:00+00:00</td>\n",
              "      <td>185.64</td>\n",
              "      <td>188.4400</td>\n",
              "      <td>183.885</td>\n",
              "      <td>187.15</td>\n",
              "      <td>82488674</td>\n",
              "      <td>185.64</td>\n",
              "      <td>188.4400</td>\n",
              "      <td>183.885</td>\n",
              "      <td>187.15</td>\n",
              "      <td>82488674</td>\n",
              "      <td>0.0</td>\n",
              "      <td>1.0</td>\n",
              "    </tr>\n",
              "    <tr>\n",
              "      <th>1256</th>\n",
              "      <td>AAPL</td>\n",
              "      <td>2024-01-03 00:00:00+00:00</td>\n",
              "      <td>184.25</td>\n",
              "      <td>185.8800</td>\n",
              "      <td>183.430</td>\n",
              "      <td>184.22</td>\n",
              "      <td>58414460</td>\n",
              "      <td>184.25</td>\n",
              "      <td>185.8800</td>\n",
              "      <td>183.430</td>\n",
              "      <td>184.22</td>\n",
              "      <td>58414460</td>\n",
              "      <td>0.0</td>\n",
              "      <td>1.0</td>\n",
              "    </tr>\n",
              "    <tr>\n",
              "      <th>1257</th>\n",
              "      <td>AAPL</td>\n",
              "      <td>2024-01-04 00:00:00+00:00</td>\n",
              "      <td>181.91</td>\n",
              "      <td>183.0872</td>\n",
              "      <td>180.880</td>\n",
              "      <td>182.15</td>\n",
              "      <td>71983570</td>\n",
              "      <td>181.91</td>\n",
              "      <td>183.0872</td>\n",
              "      <td>180.880</td>\n",
              "      <td>182.15</td>\n",
              "      <td>71983570</td>\n",
              "      <td>0.0</td>\n",
              "      <td>1.0</td>\n",
              "    </tr>\n",
              "  </tbody>\n",
              "</table>\n",
              "</div>\n",
              "    <div class=\"colab-df-buttons\">\n",
              "\n",
              "  <div class=\"colab-df-container\">\n",
              "    <button class=\"colab-df-convert\" onclick=\"convertToInteractive('df-01daca24-8338-4485-93a5-cc944eb98c4f')\"\n",
              "            title=\"Convert this dataframe to an interactive table.\"\n",
              "            style=\"display:none;\">\n",
              "\n",
              "  <svg xmlns=\"http://www.w3.org/2000/svg\" height=\"24px\" viewBox=\"0 -960 960 960\">\n",
              "    <path d=\"M120-120v-720h720v720H120Zm60-500h600v-160H180v160Zm220 220h160v-160H400v160Zm0 220h160v-160H400v160ZM180-400h160v-160H180v160Zm440 0h160v-160H620v160ZM180-180h160v-160H180v160Zm440 0h160v-160H620v160Z\"/>\n",
              "  </svg>\n",
              "    </button>\n",
              "\n",
              "  <style>\n",
              "    .colab-df-container {\n",
              "      display:flex;\n",
              "      gap: 12px;\n",
              "    }\n",
              "\n",
              "    .colab-df-convert {\n",
              "      background-color: #E8F0FE;\n",
              "      border: none;\n",
              "      border-radius: 50%;\n",
              "      cursor: pointer;\n",
              "      display: none;\n",
              "      fill: #1967D2;\n",
              "      height: 32px;\n",
              "      padding: 0 0 0 0;\n",
              "      width: 32px;\n",
              "    }\n",
              "\n",
              "    .colab-df-convert:hover {\n",
              "      background-color: #E2EBFA;\n",
              "      box-shadow: 0px 1px 2px rgba(60, 64, 67, 0.3), 0px 1px 3px 1px rgba(60, 64, 67, 0.15);\n",
              "      fill: #174EA6;\n",
              "    }\n",
              "\n",
              "    .colab-df-buttons div {\n",
              "      margin-bottom: 4px;\n",
              "    }\n",
              "\n",
              "    [theme=dark] .colab-df-convert {\n",
              "      background-color: #3B4455;\n",
              "      fill: #D2E3FC;\n",
              "    }\n",
              "\n",
              "    [theme=dark] .colab-df-convert:hover {\n",
              "      background-color: #434B5C;\n",
              "      box-shadow: 0px 1px 3px 1px rgba(0, 0, 0, 0.15);\n",
              "      filter: drop-shadow(0px 1px 2px rgba(0, 0, 0, 0.3));\n",
              "      fill: #FFFFFF;\n",
              "    }\n",
              "  </style>\n",
              "\n",
              "    <script>\n",
              "      const buttonEl =\n",
              "        document.querySelector('#df-01daca24-8338-4485-93a5-cc944eb98c4f button.colab-df-convert');\n",
              "      buttonEl.style.display =\n",
              "        google.colab.kernel.accessAllowed ? 'block' : 'none';\n",
              "\n",
              "      async function convertToInteractive(key) {\n",
              "        const element = document.querySelector('#df-01daca24-8338-4485-93a5-cc944eb98c4f');\n",
              "        const dataTable =\n",
              "          await google.colab.kernel.invokeFunction('convertToInteractive',\n",
              "                                                    [key], {});\n",
              "        if (!dataTable) return;\n",
              "\n",
              "        const docLinkHtml = 'Like what you see? Visit the ' +\n",
              "          '<a target=\"_blank\" href=https://colab.research.google.com/notebooks/data_table.ipynb>data table notebook</a>'\n",
              "          + ' to learn more about interactive tables.';\n",
              "        element.innerHTML = '';\n",
              "        dataTable['output_type'] = 'display_data';\n",
              "        await google.colab.output.renderOutput(dataTable, element);\n",
              "        const docLink = document.createElement('div');\n",
              "        docLink.innerHTML = docLinkHtml;\n",
              "        element.appendChild(docLink);\n",
              "      }\n",
              "    </script>\n",
              "  </div>\n",
              "\n",
              "\n",
              "<div id=\"df-ec39b9fc-546b-47e2-8bb7-6a8f3cc6e7c1\">\n",
              "  <button class=\"colab-df-quickchart\" onclick=\"quickchart('df-ec39b9fc-546b-47e2-8bb7-6a8f3cc6e7c1')\"\n",
              "            title=\"Suggest charts\"\n",
              "            style=\"display:none;\">\n",
              "\n",
              "<svg xmlns=\"http://www.w3.org/2000/svg\" height=\"24px\"viewBox=\"0 0 24 24\"\n",
              "     width=\"24px\">\n",
              "    <g>\n",
              "        <path d=\"M19 3H5c-1.1 0-2 .9-2 2v14c0 1.1.9 2 2 2h14c1.1 0 2-.9 2-2V5c0-1.1-.9-2-2-2zM9 17H7v-7h2v7zm4 0h-2V7h2v10zm4 0h-2v-4h2v4z\"/>\n",
              "    </g>\n",
              "</svg>\n",
              "  </button>\n",
              "\n",
              "<style>\n",
              "  .colab-df-quickchart {\n",
              "      --bg-color: #E8F0FE;\n",
              "      --fill-color: #1967D2;\n",
              "      --hover-bg-color: #E2EBFA;\n",
              "      --hover-fill-color: #174EA6;\n",
              "      --disabled-fill-color: #AAA;\n",
              "      --disabled-bg-color: #DDD;\n",
              "  }\n",
              "\n",
              "  [theme=dark] .colab-df-quickchart {\n",
              "      --bg-color: #3B4455;\n",
              "      --fill-color: #D2E3FC;\n",
              "      --hover-bg-color: #434B5C;\n",
              "      --hover-fill-color: #FFFFFF;\n",
              "      --disabled-bg-color: #3B4455;\n",
              "      --disabled-fill-color: #666;\n",
              "  }\n",
              "\n",
              "  .colab-df-quickchart {\n",
              "    background-color: var(--bg-color);\n",
              "    border: none;\n",
              "    border-radius: 50%;\n",
              "    cursor: pointer;\n",
              "    display: none;\n",
              "    fill: var(--fill-color);\n",
              "    height: 32px;\n",
              "    padding: 0;\n",
              "    width: 32px;\n",
              "  }\n",
              "\n",
              "  .colab-df-quickchart:hover {\n",
              "    background-color: var(--hover-bg-color);\n",
              "    box-shadow: 0 1px 2px rgba(60, 64, 67, 0.3), 0 1px 3px 1px rgba(60, 64, 67, 0.15);\n",
              "    fill: var(--button-hover-fill-color);\n",
              "  }\n",
              "\n",
              "  .colab-df-quickchart-complete:disabled,\n",
              "  .colab-df-quickchart-complete:disabled:hover {\n",
              "    background-color: var(--disabled-bg-color);\n",
              "    fill: var(--disabled-fill-color);\n",
              "    box-shadow: none;\n",
              "  }\n",
              "\n",
              "  .colab-df-spinner {\n",
              "    border: 2px solid var(--fill-color);\n",
              "    border-color: transparent;\n",
              "    border-bottom-color: var(--fill-color);\n",
              "    animation:\n",
              "      spin 1s steps(1) infinite;\n",
              "  }\n",
              "\n",
              "  @keyframes spin {\n",
              "    0% {\n",
              "      border-color: transparent;\n",
              "      border-bottom-color: var(--fill-color);\n",
              "      border-left-color: var(--fill-color);\n",
              "    }\n",
              "    20% {\n",
              "      border-color: transparent;\n",
              "      border-left-color: var(--fill-color);\n",
              "      border-top-color: var(--fill-color);\n",
              "    }\n",
              "    30% {\n",
              "      border-color: transparent;\n",
              "      border-left-color: var(--fill-color);\n",
              "      border-top-color: var(--fill-color);\n",
              "      border-right-color: var(--fill-color);\n",
              "    }\n",
              "    40% {\n",
              "      border-color: transparent;\n",
              "      border-right-color: var(--fill-color);\n",
              "      border-top-color: var(--fill-color);\n",
              "    }\n",
              "    60% {\n",
              "      border-color: transparent;\n",
              "      border-right-color: var(--fill-color);\n",
              "    }\n",
              "    80% {\n",
              "      border-color: transparent;\n",
              "      border-right-color: var(--fill-color);\n",
              "      border-bottom-color: var(--fill-color);\n",
              "    }\n",
              "    90% {\n",
              "      border-color: transparent;\n",
              "      border-bottom-color: var(--fill-color);\n",
              "    }\n",
              "  }\n",
              "</style>\n",
              "\n",
              "  <script>\n",
              "    async function quickchart(key) {\n",
              "      const quickchartButtonEl =\n",
              "        document.querySelector('#' + key + ' button');\n",
              "      quickchartButtonEl.disabled = true;  // To prevent multiple clicks.\n",
              "      quickchartButtonEl.classList.add('colab-df-spinner');\n",
              "      try {\n",
              "        const charts = await google.colab.kernel.invokeFunction(\n",
              "            'suggestCharts', [key], {});\n",
              "      } catch (error) {\n",
              "        console.error('Error during call to suggestCharts:', error);\n",
              "      }\n",
              "      quickchartButtonEl.classList.remove('colab-df-spinner');\n",
              "      quickchartButtonEl.classList.add('colab-df-quickchart-complete');\n",
              "    }\n",
              "    (() => {\n",
              "      let quickchartButtonEl =\n",
              "        document.querySelector('#df-ec39b9fc-546b-47e2-8bb7-6a8f3cc6e7c1 button');\n",
              "      quickchartButtonEl.style.display =\n",
              "        google.colab.kernel.accessAllowed ? 'block' : 'none';\n",
              "    })();\n",
              "  </script>\n",
              "</div>\n",
              "\n",
              "    </div>\n",
              "  </div>\n"
            ]
          },
          "metadata": {},
          "execution_count": 36
        }
      ]
    },
    {
      "cell_type": "code",
      "source": [
        "df2 = df.reset_index()['close']"
      ],
      "metadata": {
        "id": "Z7eekogkD82i"
      },
      "execution_count": 37,
      "outputs": []
    },
    {
      "cell_type": "code",
      "source": [
        "df2[1256:] # from which row number we can get"
      ],
      "metadata": {
        "colab": {
          "base_uri": "https://localhost:8080/"
        },
        "id": "t79vQLu9FE_b",
        "outputId": "aa769825-862c-46e5-97cb-255ea65cc1ca"
      },
      "execution_count": 38,
      "outputs": [
        {
          "output_type": "execute_result",
          "data": {
            "text/plain": [
              "1256    184.25\n",
              "1257    181.91\n",
              "Name: close, dtype: float64"
            ]
          },
          "metadata": {},
          "execution_count": 38
        }
      ]
    },
    {
      "cell_type": "code",
      "source": [
        "import matplotlib.pyplot as plt\n",
        "plt.plot(df2)"
      ],
      "metadata": {
        "colab": {
          "base_uri": "https://localhost:8080/",
          "height": 447
        },
        "id": "9gX89oguFIyo",
        "outputId": "c7ce256d-186b-4bc7-afc5-d85f139ec7ca"
      },
      "execution_count": 39,
      "outputs": [
        {
          "output_type": "execute_result",
          "data": {
            "text/plain": [
              "[<matplotlib.lines.Line2D at 0x793a9570dc90>]"
            ]
          },
          "metadata": {},
          "execution_count": 39
        },
        {
          "output_type": "display_data",
          "data": {
            "text/plain": [
              "<Figure size 640x480 with 1 Axes>"
            ],
            "image/png": "[encoded data removed]"
          },
          "metadata": {}
        }
      ]
    },
    {
      "cell_type": "code",
      "source": [
        "## LSTM are sensitive to the scale of the data. so we apply minmax scaler"
      ],
      "metadata": {
        "id": "LCVC-_uCFiCD"
      },
      "execution_count": 40,
      "outputs": []
    },
    {
      "cell_type": "code",
      "source": [
        "import numpy as np"
      ],
      "metadata": {
        "id": "1ZBhaxhAF0RT"
      },
      "execution_count": 41,
      "outputs": []
    },
    {
      "cell_type": "code",
      "source": [
        "from sklearn.preprocessing import MinMaxScaler\n",
        "scaler = MinMaxScaler(feature_range=(0,1))\n",
        "df2=scaler.fit_transform(np.array(df2).reshape(-1,1))"
      ],
      "metadata": {
        "id": "eLoaTqO5GRCG"
      },
      "execution_count": 42,
      "outputs": []
    },
    {
      "cell_type": "code",
      "source": [
        "df2"
      ],
      "metadata": {
        "colab": {
          "base_uri": "https://localhost:8080/"
        },
        "id": "WQMYs-5iHBtZ",
        "outputId": "0be3ade9-e72d-4a43-9ea9-c71954266a74"
      },
      "execution_count": 43,
      "outputs": [
        {
          "output_type": "execute_result",
          "data": {
            "text/plain": [
              "array([[0.10291797],\n",
              "       [0.10998121],\n",
              "       [0.11639324],\n",
              "       ...,\n",
              "       [0.19737007],\n",
              "       [0.19388854],\n",
              "       [0.18802755]])"
            ]
          },
          "metadata": {},
          "execution_count": 43
        }
      ]
    },
    {
      "cell_type": "code",
      "source": [
        "# splitting the dataset into train and test\n",
        "\n",
        "training_size = int(len(df2)*0.65)\n",
        "test_size = len(df2)-training_size\n",
        "train_data,test_data = df2[0:training_size,:],df2[training_size:len(df2),:1]"
      ],
      "metadata": {
        "id": "hKKZbvJxHFmk"
      },
      "execution_count": 44,
      "outputs": []
    },
    {
      "cell_type": "code",
      "source": [
        "training_size,test_size"
      ],
      "metadata": {
        "colab": {
          "base_uri": "https://localhost:8080/"
        },
        "id": "7IiHMu4GI8wu",
        "outputId": "107c02ec-e78d-4838-d56e-54b9ed6a9030"
      },
      "execution_count": 45,
      "outputs": [
        {
          "output_type": "execute_result",
          "data": {
            "text/plain": [
              "(817, 441)"
            ]
          },
          "metadata": {},
          "execution_count": 45
        }
      ]
    },
    {
      "cell_type": "code",
      "source": [
        "import numpy\n",
        "# convert an array of values into a dataset matrix\n",
        "def create_dataset(dataset, time_step=1):\n",
        "  dataX, dataY = [], []\n",
        "  for i in range(len(dataset)-time_step-1):\n",
        "    a = dataset[i:(i+time_step),0]\n",
        "    dataX.append(a)\n",
        "    dataY.append(dataset[i+ time_step,0])\n",
        "  return numpy.array(dataX), numpy.array(dataY)"
      ],
      "metadata": {
        "id": "nX91J3joJBLQ"
      },
      "execution_count": 46,
      "outputs": []
    },
    {
      "cell_type": "code",
      "source": [
        "# reshape into X=t, t+1, t+2 and Y=t+4\n",
        "time_step=100\n",
        "X_train, y_train = create_dataset(train_data, time_step)\n",
        "X_test, y_test = create_dataset(test_data, time_step)"
      ],
      "metadata": {
        "id": "JqumZ42MMM5c"
      },
      "execution_count": 47,
      "outputs": []
    },
    {
      "cell_type": "code",
      "source": [
        "print(X_train)"
      ],
      "metadata": {
        "colab": {
          "base_uri": "https://localhost:8080/"
        },
        "id": "OamjcmOgQQu1",
        "outputId": "22f2847c-cb4b-4b86-8fb5-33a7b3c771ee"
      },
      "execution_count": 48,
      "outputs": [
        {
          "output_type": "stream",
          "name": "stdout",
          "text": [
            "[[0.10291797 0.10998121 0.11639324 ... 0.17881027 0.17668128 0.1789856 ]\n",
            " [0.10998121 0.11639324 0.11762054 ... 0.17668128 0.1789856  0.17089543]\n",
            " [0.11639324 0.11762054 0.11383845 ... 0.1789856  0.17089543 0.16646212]\n",
            " ...\n",
            " [0.11183469 0.1105072  0.1113087  ... 0.16839073 0.17001879 0.17222292]\n",
            " [0.1105072  0.1113087  0.10920476 ... 0.17001879 0.17222292 0.1806387 ]\n",
            " [0.1113087  0.10920476 0.1101315  ... 0.17222292 0.1806387  0.17765811]]\n"
          ]
        }
      ]
    },
    {
      "cell_type": "code",
      "source": [
        "print(X_test.shape), print(y_test.shape)"
      ],
      "metadata": {
        "colab": {
          "base_uri": "https://localhost:8080/"
        },
        "id": "lG3vJLSdQS9h",
        "outputId": "f84a4644-da9c-4078-d3dd-05757ef4db4c"
      },
      "execution_count": 49,
      "outputs": [
        {
          "output_type": "stream",
          "name": "stdout",
          "text": [
            "(340, 100)\n",
            "(340,)\n"
          ]
        },
        {
          "output_type": "execute_result",
          "data": {
            "text/plain": [
              "(None, None)"
            ]
          },
          "metadata": {},
          "execution_count": 49
        }
      ]
    },
    {
      "cell_type": "code",
      "source": [
        "print(X_train.shape), print(y_train.shape)"
      ],
      "metadata": {
        "colab": {
          "base_uri": "https://localhost:8080/"
        },
        "id": "Li7JGjj6QdYp",
        "outputId": "ba49a41a-9fe9-49ea-c9fa-8b9176edc5d2"
      },
      "execution_count": 50,
      "outputs": [
        {
          "output_type": "stream",
          "name": "stdout",
          "text": [
            "(716, 100)\n",
            "(716,)\n"
          ]
        },
        {
          "output_type": "execute_result",
          "data": {
            "text/plain": [
              "(None, None)"
            ]
          },
          "metadata": {},
          "execution_count": 50
        }
      ]
    },
    {
      "cell_type": "code",
      "source": [
        "  # reshape input to be [samples, time steps, features] which is required for LSTM\n",
        "\n",
        "  X_train = X_train.reshape(X_train.shape[0],X_train.shape[1], 1)\n",
        "  X_test = X_test.reshape(X_test.shape[0],X_test.shape[1], 1)"
      ],
      "metadata": {
        "id": "foRHA1pPQwAU"
      },
      "execution_count": 51,
      "outputs": []
    },
    {
      "cell_type": "code",
      "source": [
        "# create the stacked LSTM model\n",
        "from tensorflow.keras.models import Sequential\n",
        "from tensorflow.keras.layers import Dense\n",
        "from tensorflow.keras.layers import LSTM"
      ],
      "metadata": {
        "id": "pzg4VaqHRnVX"
      },
      "execution_count": 52,
      "outputs": []
    },
    {
      "cell_type": "code",
      "source": [
        "model = Sequential()\n",
        "model.add(LSTM(50,return_sequences=True,input_shape=(100,1)))\n",
        "model.add(LSTM(50,return_sequences=True))\n",
        "model.add(LSTM(50))\n",
        "model.add(Dense(1))\n",
        "model.compile(loss='mean_squared_error',optimizer='adam')\n"
      ],
      "metadata": {
        "id": "Zx_c_JKXSBuT"
      },
      "execution_count": 54,
      "outputs": []
    },
    {
      "cell_type": "code",
      "source": [
        "model.summary()"
      ],
      "metadata": {
        "colab": {
          "base_uri": "https://localhost:8080/"
        },
        "id": "gtfmIts9gazA",
        "outputId": "627bc6bb-90a7-4a00-f4c1-0c1ea7b2f2fe"
      },
      "execution_count": 55,
      "outputs": [
        {
          "output_type": "stream",
          "name": "stdout",
          "text": [
            "Model: \"sequential_1\"\n",
            "_________________________________________________________________\n",
            " Layer (type)                Output Shape              Param #   \n",
            "=================================================================\n",
            " lstm_3 (LSTM)               (None, 100, 50)           10400     \n",
            "                                                                 \n",
            " lstm_4 (LSTM)               (None, 100, 50)           20200     \n",
            "                                                                 \n",
            " lstm_5 (LSTM)               (None, 50)                20200     \n",
            "                                                                 \n",
            " dense_1 (Dense)             (None, 1)                 51        \n",
            "                                                                 \n",
            "=================================================================\n",
            "Total params: 50851 (198.64 KB)\n",
            "Trainable params: 50851 (198.64 KB)\n",
            "Non-trainable params: 0 (0.00 Byte)\n",
            "_________________________________________________________________\n"
          ]
        }
      ]
    },
    {
      "cell_type": "code",
      "source": [
        "model.fit(X_train,y_train,validation_data=(X_test,y_test),epochs=100,batch_size=64,verbose=1)"
      ],
      "metadata": {
        "colab": {
          "base_uri": "https://localhost:8080/"
        },
        "id": "tqGu-NruggCl",
        "outputId": "f404e405-3b2c-4e7f-e221-92811be68561"
      },
      "execution_count": 56,
      "outputs": [
        {
          "output_type": "stream",
          "name": "stdout",
          "text": [
            "Epoch 1/100\n",
            "12/12 [==============================] - 12s 320ms/step - loss: 0.0346 - val_loss: 6.9761e-04\n",
            "Epoch 2/100\n",
            "12/12 [==============================] - 3s 222ms/step - loss: 0.0126 - val_loss: 3.4445e-04\n",
            "Epoch 3/100\n",
            "12/12 [==============================] - 4s 329ms/step - loss: 0.0096 - val_loss: 0.0011\n",
            "Epoch 4/100\n",
            "12/12 [==============================] - 2s 196ms/step - loss: 0.0086 - val_loss: 0.0017\n",
            "Epoch 5/100\n",
            "12/12 [==============================] - 2s 198ms/step - loss: 0.0094 - val_loss: 0.0015\n",
            "Epoch 6/100\n",
            "12/12 [==============================] - 3s 228ms/step - loss: 0.0080 - val_loss: 2.4436e-04\n",
            "Epoch 7/100\n",
            "12/12 [==============================] - 3s 220ms/step - loss: 0.0061 - val_loss: 5.4326e-04\n",
            "Epoch 8/100\n",
            "12/12 [==============================] - 4s 330ms/step - loss: 0.0053 - val_loss: 2.6924e-04\n",
            "Epoch 9/100\n",
            "12/12 [==============================] - 3s 222ms/step - loss: 0.0049 - val_loss: 2.4938e-04\n",
            "Epoch 10/100\n",
            "12/12 [==============================] - 3s 228ms/step - loss: 0.0051 - val_loss: 3.4993e-04\n",
            "Epoch 11/100\n",
            "12/12 [==============================] - 2s 199ms/step - loss: 0.0054 - val_loss: 0.0015\n",
            "Epoch 12/100\n",
            "12/12 [==============================] - 3s 251ms/step - loss: 0.0046 - val_loss: 3.3582e-04\n",
            "Epoch 13/100\n",
            "12/12 [==============================] - 3s 266ms/step - loss: 0.0038 - val_loss: 2.7579e-04\n",
            "Epoch 14/100\n",
            "12/12 [==============================] - 2s 199ms/step - loss: 0.0034 - val_loss: 2.9083e-04\n",
            "Epoch 15/100\n",
            "12/12 [==============================] - 2s 192ms/step - loss: 0.0033 - val_loss: 2.9034e-04\n",
            "Epoch 16/100\n",
            "12/12 [==============================] - 2s 194ms/step - loss: 0.0031 - val_loss: 2.2385e-04\n",
            "Epoch 17/100\n",
            "12/12 [==============================] - 2s 200ms/step - loss: 0.0036 - val_loss: 3.9505e-04\n",
            "Epoch 18/100\n",
            "12/12 [==============================] - 4s 308ms/step - loss: 0.0032 - val_loss: 2.7318e-04\n",
            "Epoch 19/100\n",
            "12/12 [==============================] - 2s 195ms/step - loss: 0.0031 - val_loss: 4.1688e-04\n",
            "Epoch 20/100\n",
            "12/12 [==============================] - 2s 192ms/step - loss: 0.0027 - val_loss: 2.1091e-04\n",
            "Epoch 21/100\n",
            "12/12 [==============================] - 2s 196ms/step - loss: 0.0027 - val_loss: 2.0949e-04\n",
            "Epoch 22/100\n",
            "12/12 [==============================] - 2s 191ms/step - loss: 0.0029 - val_loss: 4.8448e-04\n",
            "Epoch 23/100\n",
            "12/12 [==============================] - 3s 301ms/step - loss: 0.0024 - val_loss: 2.3449e-04\n",
            "Epoch 24/100\n",
            "12/12 [==============================] - 3s 209ms/step - loss: 0.0043 - val_loss: 5.6339e-04\n",
            "Epoch 25/100\n",
            "12/12 [==============================] - 2s 199ms/step - loss: 0.0046 - val_loss: 1.8715e-04\n",
            "Epoch 26/100\n",
            "12/12 [==============================] - 2s 198ms/step - loss: 0.0032 - val_loss: 1.9125e-04\n",
            "Epoch 27/100\n",
            "12/12 [==============================] - 2s 192ms/step - loss: 0.0027 - val_loss: 1.8300e-04\n",
            "Epoch 28/100\n",
            "12/12 [==============================] - 3s 262ms/step - loss: 0.0027 - val_loss: 2.1506e-04\n",
            "Epoch 29/100\n",
            "12/12 [==============================] - 3s 243ms/step - loss: 0.0031 - val_loss: 2.6985e-04\n",
            "Epoch 30/100\n",
            "12/12 [==============================] - 2s 193ms/step - loss: 0.0024 - val_loss: 2.4162e-04\n",
            "Epoch 31/100\n",
            "12/12 [==============================] - 2s 192ms/step - loss: 0.0024 - val_loss: 1.8848e-04\n",
            "Epoch 32/100\n",
            "12/12 [==============================] - 2s 192ms/step - loss: 0.0022 - val_loss: 1.9519e-04\n",
            "Epoch 33/100\n",
            "12/12 [==============================] - 2s 212ms/step - loss: 0.0029 - val_loss: 1.8508e-04\n",
            "Epoch 34/100\n",
            "12/12 [==============================] - 4s 298ms/step - loss: 0.0020 - val_loss: 2.2138e-04\n",
            "Epoch 35/100\n",
            "12/12 [==============================] - 2s 192ms/step - loss: 0.0022 - val_loss: 2.0115e-04\n",
            "Epoch 36/100\n",
            "12/12 [==============================] - 2s 194ms/step - loss: 0.0022 - val_loss: 1.8745e-04\n",
            "Epoch 37/100\n",
            "12/12 [==============================] - 3s 222ms/step - loss: 0.0019 - val_loss: 1.8862e-04\n",
            "Epoch 38/100\n",
            "12/12 [==============================] - 3s 258ms/step - loss: 0.0020 - val_loss: 2.8901e-04\n",
            "Epoch 39/100\n",
            "12/12 [==============================] - 5s 445ms/step - loss: 0.0021 - val_loss: 1.8941e-04\n",
            "Epoch 40/100\n",
            "12/12 [==============================] - 4s 364ms/step - loss: 0.0027 - val_loss: 2.0530e-04\n",
            "Epoch 41/100\n",
            "12/12 [==============================] - 4s 372ms/step - loss: 0.0023 - val_loss: 1.8773e-04\n",
            "Epoch 42/100\n",
            "12/12 [==============================] - 5s 427ms/step - loss: 0.0019 - val_loss: 3.9864e-04\n",
            "Epoch 43/100\n",
            "12/12 [==============================] - 5s 427ms/step - loss: 0.0018 - val_loss: 1.8580e-04\n",
            "Epoch 44/100\n",
            "12/12 [==============================] - 4s 370ms/step - loss: 0.0018 - val_loss: 1.9764e-04\n",
            "Epoch 45/100\n",
            "12/12 [==============================] - 3s 275ms/step - loss: 0.0023 - val_loss: 2.8611e-04\n",
            "Epoch 46/100\n",
            "12/12 [==============================] - 2s 194ms/step - loss: 0.0031 - val_loss: 2.3093e-04\n",
            "Epoch 47/100\n",
            "12/12 [==============================] - 2s 190ms/step - loss: 0.0033 - val_loss: 2.0195e-04\n",
            "Epoch 48/100\n",
            "12/12 [==============================] - 2s 191ms/step - loss: 0.0029 - val_loss: 5.0146e-04\n",
            "Epoch 49/100\n",
            "12/12 [==============================] - 2s 193ms/step - loss: 0.0024 - val_loss: 2.4485e-04\n",
            "Epoch 50/100\n",
            "12/12 [==============================] - 4s 310ms/step - loss: 0.0019 - val_loss: 2.4821e-04\n",
            "Epoch 51/100\n",
            "12/12 [==============================] - 2s 196ms/step - loss: 0.0019 - val_loss: 2.2560e-04\n",
            "Epoch 52/100\n",
            "12/12 [==============================] - 2s 193ms/step - loss: 0.0019 - val_loss: 1.8050e-04\n",
            "Epoch 53/100\n",
            "12/12 [==============================] - 3s 223ms/step - loss: 0.0016 - val_loss: 2.2726e-04\n",
            "Epoch 54/100\n",
            "12/12 [==============================] - 2s 193ms/step - loss: 0.0015 - val_loss: 1.9965e-04\n",
            "Epoch 55/100\n",
            "12/12 [==============================] - 3s 300ms/step - loss: 0.0029 - val_loss: 2.6019e-04\n",
            "Epoch 56/100\n",
            "12/12 [==============================] - 3s 214ms/step - loss: 0.0025 - val_loss: 2.9410e-04\n",
            "Epoch 57/100\n",
            "12/12 [==============================] - 2s 192ms/step - loss: 0.0019 - val_loss: 1.9522e-04\n",
            "Epoch 58/100\n",
            "12/12 [==============================] - 2s 194ms/step - loss: 0.0019 - val_loss: 1.9982e-04\n",
            "Epoch 59/100\n",
            "12/12 [==============================] - 2s 189ms/step - loss: 0.0018 - val_loss: 2.0166e-04\n",
            "Epoch 60/100\n",
            "12/12 [==============================] - 3s 248ms/step - loss: 0.0019 - val_loss: 1.8729e-04\n",
            "Epoch 61/100\n",
            "12/12 [==============================] - 3s 261ms/step - loss: 0.0017 - val_loss: 2.4648e-04\n",
            "Epoch 62/100\n",
            "12/12 [==============================] - 2s 196ms/step - loss: 0.0027 - val_loss: 1.8082e-04\n",
            "Epoch 63/100\n",
            "12/12 [==============================] - 2s 197ms/step - loss: 0.0019 - val_loss: 2.9854e-04\n",
            "Epoch 64/100\n",
            "12/12 [==============================] - 2s 197ms/step - loss: 0.0017 - val_loss: 2.1077e-04\n",
            "Epoch 65/100\n",
            "12/12 [==============================] - 2s 207ms/step - loss: 0.0015 - val_loss: 2.1190e-04\n",
            "Epoch 66/100\n",
            "12/12 [==============================] - 4s 303ms/step - loss: 0.0015 - val_loss: 1.8226e-04\n",
            "Epoch 67/100\n",
            "12/12 [==============================] - 2s 194ms/step - loss: 0.0019 - val_loss: 2.0786e-04\n",
            "Epoch 68/100\n",
            "12/12 [==============================] - 2s 198ms/step - loss: 0.0013 - val_loss: 1.8293e-04\n",
            "Epoch 69/100\n",
            "12/12 [==============================] - 2s 197ms/step - loss: 0.0016 - val_loss: 1.8012e-04\n",
            "Epoch 70/100\n",
            "12/12 [==============================] - 2s 196ms/step - loss: 0.0013 - val_loss: 1.9650e-04\n",
            "Epoch 71/100\n",
            "12/12 [==============================] - 4s 318ms/step - loss: 0.0014 - val_loss: 1.9559e-04\n",
            "Epoch 72/100\n",
            "12/12 [==============================] - 3s 204ms/step - loss: 0.0015 - val_loss: 2.0321e-04\n",
            "Epoch 73/100\n",
            "12/12 [==============================] - 2s 202ms/step - loss: 0.0014 - val_loss: 1.9444e-04\n",
            "Epoch 74/100\n",
            "12/12 [==============================] - 3s 233ms/step - loss: 0.0013 - val_loss: 1.8111e-04\n",
            "Epoch 75/100\n",
            "12/12 [==============================] - 4s 304ms/step - loss: 0.0017 - val_loss: 1.8093e-04\n",
            "Epoch 76/100\n",
            "12/12 [==============================] - 3s 291ms/step - loss: 0.0016 - val_loss: 1.8731e-04\n",
            "Epoch 77/100\n",
            "12/12 [==============================] - 2s 196ms/step - loss: 0.0015 - val_loss: 3.8064e-04\n",
            "Epoch 78/100\n",
            "12/12 [==============================] - 2s 201ms/step - loss: 0.0015 - val_loss: 2.4261e-04\n",
            "Epoch 79/100\n",
            "12/12 [==============================] - 3s 233ms/step - loss: 0.0015 - val_loss: 1.8333e-04\n",
            "Epoch 80/100\n",
            "12/12 [==============================] - 3s 220ms/step - loss: 0.0013 - val_loss: 2.9728e-04\n",
            "Epoch 81/100\n",
            "12/12 [==============================] - 4s 297ms/step - loss: 0.0012 - val_loss: 1.7629e-04\n",
            "Epoch 82/100\n",
            "12/12 [==============================] - 2s 201ms/step - loss: 0.0014 - val_loss: 1.7362e-04\n",
            "Epoch 83/100\n",
            "12/12 [==============================] - 2s 194ms/step - loss: 0.0049 - val_loss: 3.0397e-04\n",
            "Epoch 84/100\n",
            "12/12 [==============================] - 2s 195ms/step - loss: 0.0036 - val_loss: 8.0691e-04\n",
            "Epoch 85/100\n",
            "12/12 [==============================] - 2s 199ms/step - loss: 0.0035 - val_loss: 7.6734e-04\n",
            "Epoch 86/100\n",
            "12/12 [==============================] - 4s 325ms/step - loss: 0.0026 - val_loss: 3.4035e-04\n",
            "Epoch 87/100\n",
            "12/12 [==============================] - 2s 201ms/step - loss: 0.0024 - val_loss: 1.7733e-04\n",
            "Epoch 88/100\n",
            "12/12 [==============================] - 2s 196ms/step - loss: 0.0020 - val_loss: 3.5956e-04\n",
            "Epoch 89/100\n",
            "12/12 [==============================] - 2s 203ms/step - loss: 0.0019 - val_loss: 1.5734e-04\n",
            "Epoch 90/100\n",
            "12/12 [==============================] - 2s 199ms/step - loss: 0.0017 - val_loss: 2.2490e-04\n",
            "Epoch 91/100\n",
            "12/12 [==============================] - 4s 310ms/step - loss: 0.0020 - val_loss: 1.9733e-04\n",
            "Epoch 92/100\n",
            "12/12 [==============================] - 3s 217ms/step - loss: 0.0015 - val_loss: 1.7562e-04\n",
            "Epoch 93/100\n",
            "12/12 [==============================] - 2s 201ms/step - loss: 0.0014 - val_loss: 1.5968e-04\n",
            "Epoch 94/100\n",
            "12/12 [==============================] - 2s 197ms/step - loss: 0.0016 - val_loss: 1.8840e-04\n",
            "Epoch 95/100\n",
            "12/12 [==============================] - 2s 195ms/step - loss: 0.0015 - val_loss: 1.6653e-04\n",
            "Epoch 96/100\n",
            "12/12 [==============================] - 3s 280ms/step - loss: 0.0016 - val_loss: 2.4272e-04\n",
            "Epoch 97/100\n",
            "12/12 [==============================] - 3s 267ms/step - loss: 0.0015 - val_loss: 1.8184e-04\n",
            "Epoch 98/100\n",
            "12/12 [==============================] - 2s 200ms/step - loss: 0.0016 - val_loss: 1.6004e-04\n",
            "Epoch 99/100\n",
            "12/12 [==============================] - 2s 197ms/step - loss: 0.0013 - val_loss: 2.0487e-04\n",
            "Epoch 100/100\n",
            "12/12 [==============================] - 2s 201ms/step - loss: 0.0013 - val_loss: 2.2732e-04\n"
          ]
        },
        {
          "output_type": "execute_result",
          "data": {
            "text/plain": [
              "<keras.src.callbacks.History at 0x793a922064a0>"
            ]
          },
          "metadata": {},
          "execution_count": 56
        }
      ]
    },
    {
      "cell_type": "code",
      "source": [
        "import tensorflow as tf"
      ],
      "metadata": {
        "id": "-VeW-q7HheX9"
      },
      "execution_count": 57,
      "outputs": []
    },
    {
      "cell_type": "code",
      "source": [
        "tf.__version__"
      ],
      "metadata": {
        "colab": {
          "base_uri": "https://localhost:8080/",
          "height": 35
        },
        "id": "X2zEBVCph7rP",
        "outputId": "98d16180-490b-4921-8329-afec76b75c6a"
      },
      "execution_count": 58,
      "outputs": [
        {
          "output_type": "execute_result",
          "data": {
            "text/plain": [
              "'2.15.0'"
            ],
            "application/vnd.google.colaboratory.intrinsic+json": {
              "type": "string"
            }
          },
          "metadata": {},
          "execution_count": 58
        }
      ]
    },
    {
      "cell_type": "code",
      "source": [
        "# lets do the prediction and check performance metrics\n",
        "\n",
        "train_predict = model.predict(X_train)\n",
        "test_predict = model.predict(X_test)"
      ],
      "metadata": {
        "colab": {
          "base_uri": "https://localhost:8080/"
        },
        "id": "Pbsa_v3hh_MC",
        "outputId": "c8626ec7-5e7f-4cfd-fa55-fc00bd2a72ca"
      },
      "execution_count": 59,
      "outputs": [
        {
          "output_type": "stream",
          "name": "stdout",
          "text": [
            "23/23 [==============================] - 3s 39ms/step\n",
            "11/11 [==============================] - 0s 37ms/step\n"
          ]
        }
      ]
    },
    {
      "cell_type": "code",
      "source": [
        "# transform back to original form\n",
        "\n",
        "train_predict = scaler.inverse_transform(train_predict)\n",
        "test_predict = scaler.inverse_transform(test_predict)"
      ],
      "metadata": {
        "id": "lowwkKHJlpU_"
      },
      "execution_count": 60,
      "outputs": []
    },
    {
      "cell_type": "code",
      "source": [
        "# calculate RMSE performance metrics\n",
        "\n",
        "import math\n",
        "from sklearn.metrics import mean_squared_error\n",
        "math.sqrt(mean_squared_error(y_train,train_predict))"
      ],
      "metadata": {
        "colab": {
          "base_uri": "https://localhost:8080/"
        },
        "id": "nyD1opj8l9_r",
        "outputId": "54fdc904-aff5-40af-914f-6d1a3222bf83"
      },
      "execution_count": 61,
      "outputs": [
        {
          "output_type": "execute_result",
          "data": {
            "text/plain": [
              "217.74948562423168"
            ]
          },
          "metadata": {},
          "execution_count": 61
        }
      ]
    },
    {
      "cell_type": "code",
      "source": [
        "# test data RMSE\n",
        "\n",
        "math.sqrt(mean_squared_error(y_test, test_predict))"
      ],
      "metadata": {
        "colab": {
          "base_uri": "https://localhost:8080/"
        },
        "id": "-6GxyHY7mZJG",
        "outputId": "c7c02a7d-6430-43d9-a5e1-007bb5a0bb80"
      },
      "execution_count": 62,
      "outputs": [
        {
          "output_type": "execute_result",
          "data": {
            "text/plain": [
              "163.30114710813314"
            ]
          },
          "metadata": {},
          "execution_count": 62
        }
      ]
    },
    {
      "cell_type": "code",
      "source": [
        "### plotting\n",
        "# shift train predictions for plotting\n",
        "\n",
        "look_back=100\n",
        "trainPredictPlot = numpy.empty_like(df2)\n",
        "trainPredictPlot[:, :] = np.nan\n",
        "trainPredictPlot[look_back:len(train_predict)+look_back, :] = train_predict\n",
        "\n",
        "# shift test predictions for plotting\n",
        "\n",
        "testPredictPlot = numpy.empty_like(df2)\n",
        "testPredictPlot[:, :] = numpy.nan\n",
        "testPredictPlot[len(train_predict)+(look_back*2)+1:len(df2)-1, :] = test_predict\n",
        "\n",
        "# plot baseline and predictions\n",
        "\n",
        "plt.plot(scaler.inverse_transform(df2))\n",
        "plt.plot(trainPredictPlot)\n",
        "plt.plot(testPredictPlot)\n",
        "plt.show()"
      ],
      "metadata": {
        "colab": {
          "base_uri": "https://localhost:8080/",
          "height": 430
        },
        "id": "p-vVF83Tmmwq",
        "outputId": "0a79e9f2-1938-4c7e-ba76-5840de6e542a"
      },
      "execution_count": 63,
      "outputs": [
        {
          "output_type": "display_data",
          "data": {
            "text/plain": [
              "<Figure size 640x480 with 1 Axes>"
            ],
            "image/png": "[encoded data removed]"
          },
          "metadata": {}
        }
      ]
    },
    {
      "cell_type": "code",
      "source": [
        "len(test_data)"
      ],
      "metadata": {
        "colab": {
          "base_uri": "https://localhost:8080/"
        },
        "id": "PL4EzBynoY_U",
        "outputId": "68a4c9a9-e7a2-4bab-b062-cd496ab55878"
      },
      "execution_count": 64,
      "outputs": [
        {
          "output_type": "execute_result",
          "data": {
            "text/plain": [
              "441"
            ]
          },
          "metadata": {},
          "execution_count": 64
        }
      ]
    },
    {
      "cell_type": "code",
      "source": [
        "x_input = test_data[341:].reshape(1,-1)\n",
        "x_input.shape"
      ],
      "metadata": {
        "colab": {
          "base_uri": "https://localhost:8080/"
        },
        "id": "hrPp9QA5qywn",
        "outputId": "298c8d01-6bd6-4267-e4e7-2c5c43a2ccb1"
      },
      "execution_count": 65,
      "outputs": [
        {
          "output_type": "execute_result",
          "data": {
            "text/plain": [
              "(1, 100)"
            ]
          },
          "metadata": {},
          "execution_count": 65
        }
      ]
    },
    {
      "cell_type": "code",
      "source": [
        "temp_input = list(x_input)\n",
        "temp_input=temp_input[0].tolist()\n",
        "\n",
        "temp_input"
      ],
      "metadata": {
        "colab": {
          "base_uri": "https://localhost:8080/"
        },
        "id": "1dM9dY-Bq-Sh",
        "outputId": "0b37e326-a48c-40cd-c394-70745ccaae69"
      },
      "execution_count": 66,
      "outputs": [
        {
          "output_type": "execute_result",
          "data": {
            "text/plain": [
              "[0.18189104571070758,\n",
              " 0.1768566061365059,\n",
              " 0.1746524733876017,\n",
              " 0.16821540388227924,\n",
              " 0.16944270507200998,\n",
              " 0.17282404508453347,\n",
              " 0.17630557294927984,\n",
              " 0.18604884157795865,\n",
              " 0.17417658108954281,\n",
              " 0.17976205385097055,\n",
              " 0.18371947401377575,\n",
              " 0.1935629304946775,\n",
              " 0.20240450845335,\n",
              " 0.20295554164057605,\n",
              " 0.20693800876643703,\n",
              " 0.20753913587977452,\n",
              " 0.19053224796493418,\n",
              " 0.1771321227301189,\n",
              " 0.17868503443957418,\n",
              " 0.18164057608015027,\n",
              " 0.17397620538509706,\n",
              " 0.16874139010644956,\n",
              " 0.17257357545397617,\n",
              " 0.17074514715090788,\n",
              " 0.17815904821540385,\n",
              " 0.18091421415153408,\n",
              " 0.17194740137758296,\n",
              " 0.16804007514088914,\n",
              " 0.17019411396368184,\n",
              " 0.173425172197871,\n",
              " 0.16310582341891044,\n",
              " 0.15927363807138384,\n",
              " 0.15992485911083276,\n",
              " 0.16122730118973072,\n",
              " 0.16758922980588598,\n",
              " 0.16420788979336254,\n",
              " 0.1673638071383844,\n",
              " 0.17049467752035058,\n",
              " 0.17695679398872882,\n",
              " 0.18071383844708827,\n",
              " 0.17921102066374445,\n",
              " 0.18274264245460237,\n",
              " 0.1850219160926737,\n",
              " 0.18036318096430803,\n",
              " 0.18003757044458357,\n",
              " 0.17610519724483403,\n",
              " 0.17282404508453347,\n",
              " 0.17187226048841575,\n",
              " 0.1654101440200375,\n",
              " 0.1657107075767063,\n",
              " 0.1668127739511584,\n",
              " 0.16095178459611764,\n",
              " 0.15040701314965554,\n",
              " 0.1537382592360676,\n",
              " 0.15892298058860355,\n",
              " 0.16012523481527863,\n",
              " 0.16814026299311202,\n",
              " 0.17715716969317463,\n",
              " 0.17485284909204757,\n",
              " 0.1813149655604257,\n",
              " 0.18780212899185966,\n",
              " 0.19048215403882274,\n",
              " 0.1892798998121477,\n",
              " 0.19927363807138382,\n",
              " 0.19526612398246712,\n",
              " 0.20187852222917968,\n",
              " 0.20330619912335623,\n",
              " 0.2075641828428303,\n",
              " 0.2075140889167188,\n",
              " 0.21192235441452717,\n",
              " 0.20989355040701307,\n",
              " 0.211571696931747,\n",
              " 0.20821540388227922,\n",
              " 0.2077645585472761,\n",
              " 0.2092924232936756,\n",
              " 0.20671258609893545,\n",
              " 0.20816530995616772,\n",
              " 0.2113963681903569,\n",
              " 0.20686286787726987,\n",
              " 0.21685660613650587,\n",
              " 0.21410144020037564,\n",
              " 0.21898559799624295,\n",
              " 0.22259236067626798,\n",
              " 0.21625547902316838,\n",
              " 0.22008766437069505,\n",
              " 0.2282279273638071,\n",
              " 0.22860363180964305,\n",
              " 0.2272510958046336,\n",
              " 0.22304320601127103,\n",
              " 0.22567313713212267,\n",
              " 0.2203882279273638,\n",
              " 0.22001252348152783,\n",
              " 0.21730745147150904,\n",
              " 0.21592986850344392,\n",
              " 0.21618033813400123,\n",
              " 0.2172573575453976,\n",
              " 0.21462742642454596,\n",
              " 0.19737006887914832,\n",
              " 0.19388854101440195,\n",
              " 0.18802755165936125]"
            ]
          },
          "metadata": {},
          "execution_count": 66
        }
      ]
    },
    {
      "cell_type": "code",
      "source": [
        "# demonstrate prediction for next 10 days\n",
        "\n",
        "from numpy import array\n",
        "\n",
        "lst_output=[]\n",
        "n_steps=100\n",
        "i=0\n",
        "while(i<30):\n",
        "\n",
        "  if(len(temp_input)>100):\n",
        "    #print(temp_input)\n",
        "    x_input=np.array(temp_input[1:])\n",
        "    print(\"{} day input {}\".format(i,x_input))\n",
        "    x_input=x_input.reshape(1,-1)\n",
        "    x_input=x_input.reshape((1,n_steps,1))\n",
        "    # print(x_input)\n",
        "    yhat = model.predict(x_input, verbose=0)\n",
        "    print(\"{} day output {}\".format(i,yhat))\n",
        "    temp_input.extend(yhat[0].tolist())\n",
        "    temp_input=temp_input[1:]\n",
        "    #print(temp_input)\n",
        "    lst_output.extend(yhat.tolist())\n",
        "    i=i+1\n",
        "  else:\n",
        "    x_input = x_input.reshape((1,n_steps,1))\n",
        "    yhat = model.predict(x_input, verbose=0)\n",
        "    print(yhat[0])\n",
        "    temp_input.extend(yhat[0].tolist())\n",
        "    print(len(temp_input))\n",
        "    lst_output.extend(yhat.tolist())\n",
        "    i=i+1\n",
        "\n",
        "print(lst_output)"
      ],
      "metadata": {
        "colab": {
          "base_uri": "https://localhost:8080/"
        },
        "id": "HVShb5JotwNk",
        "outputId": "670070f2-d00d-4a75-d494-d8734ff222ba"
      },
      "execution_count": 67,
      "outputs": [
        {
          "output_type": "stream",
          "name": "stdout",
          "text": [
            "[0.20072778]\n",
            "101\n",
            "1 day input [0.17685661 0.17465247 0.1682154  0.16944271 0.17282405 0.17630557\n",
            " 0.18604884 0.17417658 0.17976205 0.18371947 0.19356293 0.20240451\n",
            " 0.20295554 0.20693801 0.20753914 0.19053225 0.17713212 0.17868503\n",
            " 0.18164058 0.17397621 0.16874139 0.17257358 0.17074515 0.17815905\n",
            " 0.18091421 0.1719474  0.16804008 0.17019411 0.17342517 0.16310582\n",
            " 0.15927364 0.15992486 0.1612273  0.16758923 0.16420789 0.16736381\n",
            " 0.17049468 0.17695679 0.18071384 0.17921102 0.18274264 0.18502192\n",
            " 0.18036318 0.18003757 0.1761052  0.17282405 0.17187226 0.16541014\n",
            " 0.16571071 0.16681277 0.16095178 0.15040701 0.15373826 0.15892298\n",
            " 0.16012523 0.16814026 0.17715717 0.17485285 0.18131497 0.18780213\n",
            " 0.19048215 0.1892799  0.19927364 0.19526612 0.20187852 0.2033062\n",
            " 0.20756418 0.20751409 0.21192235 0.20989355 0.2115717  0.2082154\n",
            " 0.20776456 0.20929242 0.20671259 0.20816531 0.21139637 0.20686287\n",
            " 0.21685661 0.21410144 0.2189856  0.22259236 0.21625548 0.22008766\n",
            " 0.22822793 0.22860363 0.2272511  0.22304321 0.22567314 0.22038823\n",
            " 0.22001252 0.21730745 0.21592987 0.21618034 0.21725736 0.21462743\n",
            " 0.19737007 0.19388854 0.18802755 0.20072778]\n",
            "1 day output [[0.19753028]]\n",
            "2 day input [0.17465247 0.1682154  0.16944271 0.17282405 0.17630557 0.18604884\n",
            " 0.17417658 0.17976205 0.18371947 0.19356293 0.20240451 0.20295554\n",
            " 0.20693801 0.20753914 0.19053225 0.17713212 0.17868503 0.18164058\n",
            " 0.17397621 0.16874139 0.17257358 0.17074515 0.17815905 0.18091421\n",
            " 0.1719474  0.16804008 0.17019411 0.17342517 0.16310582 0.15927364\n",
            " 0.15992486 0.1612273  0.16758923 0.16420789 0.16736381 0.17049468\n",
            " 0.17695679 0.18071384 0.17921102 0.18274264 0.18502192 0.18036318\n",
            " 0.18003757 0.1761052  0.17282405 0.17187226 0.16541014 0.16571071\n",
            " 0.16681277 0.16095178 0.15040701 0.15373826 0.15892298 0.16012523\n",
            " 0.16814026 0.17715717 0.17485285 0.18131497 0.18780213 0.19048215\n",
            " 0.1892799  0.19927364 0.19526612 0.20187852 0.2033062  0.20756418\n",
            " 0.20751409 0.21192235 0.20989355 0.2115717  0.2082154  0.20776456\n",
            " 0.20929242 0.20671259 0.20816531 0.21139637 0.20686287 0.21685661\n",
            " 0.21410144 0.2189856  0.22259236 0.21625548 0.22008766 0.22822793\n",
            " 0.22860363 0.2272511  0.22304321 0.22567314 0.22038823 0.22001252\n",
            " 0.21730745 0.21592987 0.21618034 0.21725736 0.21462743 0.19737007\n",
            " 0.19388854 0.18802755 0.20072778 0.19753028]\n",
            "2 day output [[0.19507714]]\n",
            "3 day input [0.1682154  0.16944271 0.17282405 0.17630557 0.18604884 0.17417658\n",
            " 0.17976205 0.18371947 0.19356293 0.20240451 0.20295554 0.20693801\n",
            " 0.20753914 0.19053225 0.17713212 0.17868503 0.18164058 0.17397621\n",
            " 0.16874139 0.17257358 0.17074515 0.17815905 0.18091421 0.1719474\n",
            " 0.16804008 0.17019411 0.17342517 0.16310582 0.15927364 0.15992486\n",
            " 0.1612273  0.16758923 0.16420789 0.16736381 0.17049468 0.17695679\n",
            " 0.18071384 0.17921102 0.18274264 0.18502192 0.18036318 0.18003757\n",
            " 0.1761052  0.17282405 0.17187226 0.16541014 0.16571071 0.16681277\n",
            " 0.16095178 0.15040701 0.15373826 0.15892298 0.16012523 0.16814026\n",
            " 0.17715717 0.17485285 0.18131497 0.18780213 0.19048215 0.1892799\n",
            " 0.19927364 0.19526612 0.20187852 0.2033062  0.20756418 0.20751409\n",
            " 0.21192235 0.20989355 0.2115717  0.2082154  0.20776456 0.20929242\n",
            " 0.20671259 0.20816531 0.21139637 0.20686287 0.21685661 0.21410144\n",
            " 0.2189856  0.22259236 0.21625548 0.22008766 0.22822793 0.22860363\n",
            " 0.2272511  0.22304321 0.22567314 0.22038823 0.22001252 0.21730745\n",
            " 0.21592987 0.21618034 0.21725736 0.21462743 0.19737007 0.19388854\n",
            " 0.18802755 0.20072778 0.19753028 0.19507714]\n",
            "3 day output [[0.19308242]]\n",
            "4 day input [0.16944271 0.17282405 0.17630557 0.18604884 0.17417658 0.17976205\n",
            " 0.18371947 0.19356293 0.20240451 0.20295554 0.20693801 0.20753914\n",
            " 0.19053225 0.17713212 0.17868503 0.18164058 0.17397621 0.16874139\n",
            " 0.17257358 0.17074515 0.17815905 0.18091421 0.1719474  0.16804008\n",
            " 0.17019411 0.17342517 0.16310582 0.15927364 0.15992486 0.1612273\n",
            " 0.16758923 0.16420789 0.16736381 0.17049468 0.17695679 0.18071384\n",
            " 0.17921102 0.18274264 0.18502192 0.18036318 0.18003757 0.1761052\n",
            " 0.17282405 0.17187226 0.16541014 0.16571071 0.16681277 0.16095178\n",
            " 0.15040701 0.15373826 0.15892298 0.16012523 0.16814026 0.17715717\n",
            " 0.17485285 0.18131497 0.18780213 0.19048215 0.1892799  0.19927364\n",
            " 0.19526612 0.20187852 0.2033062  0.20756418 0.20751409 0.21192235\n",
            " 0.20989355 0.2115717  0.2082154  0.20776456 0.20929242 0.20671259\n",
            " 0.20816531 0.21139637 0.20686287 0.21685661 0.21410144 0.2189856\n",
            " 0.22259236 0.21625548 0.22008766 0.22822793 0.22860363 0.2272511\n",
            " 0.22304321 0.22567314 0.22038823 0.22001252 0.21730745 0.21592987\n",
            " 0.21618034 0.21725736 0.21462743 0.19737007 0.19388854 0.18802755\n",
            " 0.20072778 0.19753028 0.19507714 0.19308242]\n",
            "4 day output [[0.19130884]]\n",
            "5 day input [0.17282405 0.17630557 0.18604884 0.17417658 0.17976205 0.18371947\n",
            " 0.19356293 0.20240451 0.20295554 0.20693801 0.20753914 0.19053225\n",
            " 0.17713212 0.17868503 0.18164058 0.17397621 0.16874139 0.17257358\n",
            " 0.17074515 0.17815905 0.18091421 0.1719474  0.16804008 0.17019411\n",
            " 0.17342517 0.16310582 0.15927364 0.15992486 0.1612273  0.16758923\n",
            " 0.16420789 0.16736381 0.17049468 0.17695679 0.18071384 0.17921102\n",
            " 0.18274264 0.18502192 0.18036318 0.18003757 0.1761052  0.17282405\n",
            " 0.17187226 0.16541014 0.16571071 0.16681277 0.16095178 0.15040701\n",
            " 0.15373826 0.15892298 0.16012523 0.16814026 0.17715717 0.17485285\n",
            " 0.18131497 0.18780213 0.19048215 0.1892799  0.19927364 0.19526612\n",
            " 0.20187852 0.2033062  0.20756418 0.20751409 0.21192235 0.20989355\n",
            " 0.2115717  0.2082154  0.20776456 0.20929242 0.20671259 0.20816531\n",
            " 0.21139637 0.20686287 0.21685661 0.21410144 0.2189856  0.22259236\n",
            " 0.21625548 0.22008766 0.22822793 0.22860363 0.2272511  0.22304321\n",
            " 0.22567314 0.22038823 0.22001252 0.21730745 0.21592987 0.21618034\n",
            " 0.21725736 0.21462743 0.19737007 0.19388854 0.18802755 0.20072778\n",
            " 0.19753028 0.19507714 0.19308242 0.19130884]\n",
            "5 day output [[0.18961574]]\n",
            "6 day input [0.17630557 0.18604884 0.17417658 0.17976205 0.18371947 0.19356293\n",
            " 0.20240451 0.20295554 0.20693801 0.20753914 0.19053225 0.17713212\n",
            " 0.17868503 0.18164058 0.17397621 0.16874139 0.17257358 0.17074515\n",
            " 0.17815905 0.18091421 0.1719474  0.16804008 0.17019411 0.17342517\n",
            " 0.16310582 0.15927364 0.15992486 0.1612273  0.16758923 0.16420789\n",
            " 0.16736381 0.17049468 0.17695679 0.18071384 0.17921102 0.18274264\n",
            " 0.18502192 0.18036318 0.18003757 0.1761052  0.17282405 0.17187226\n",
            " 0.16541014 0.16571071 0.16681277 0.16095178 0.15040701 0.15373826\n",
            " 0.15892298 0.16012523 0.16814026 0.17715717 0.17485285 0.18131497\n",
            " 0.18780213 0.19048215 0.1892799  0.19927364 0.19526612 0.20187852\n",
            " 0.2033062  0.20756418 0.20751409 0.21192235 0.20989355 0.2115717\n",
            " 0.2082154  0.20776456 0.20929242 0.20671259 0.20816531 0.21139637\n",
            " 0.20686287 0.21685661 0.21410144 0.2189856  0.22259236 0.21625548\n",
            " 0.22008766 0.22822793 0.22860363 0.2272511  0.22304321 0.22567314\n",
            " 0.22038823 0.22001252 0.21730745 0.21592987 0.21618034 0.21725736\n",
            " 0.21462743 0.19737007 0.19388854 0.18802755 0.20072778 0.19753028\n",
            " 0.19507714 0.19308242 0.19130884 0.18961574]\n",
            "6 day output [[0.18793789]]\n",
            "7 day input [0.18604884 0.17417658 0.17976205 0.18371947 0.19356293 0.20240451\n",
            " 0.20295554 0.20693801 0.20753914 0.19053225 0.17713212 0.17868503\n",
            " 0.18164058 0.17397621 0.16874139 0.17257358 0.17074515 0.17815905\n",
            " 0.18091421 0.1719474  0.16804008 0.17019411 0.17342517 0.16310582\n",
            " 0.15927364 0.15992486 0.1612273  0.16758923 0.16420789 0.16736381\n",
            " 0.17049468 0.17695679 0.18071384 0.17921102 0.18274264 0.18502192\n",
            " 0.18036318 0.18003757 0.1761052  0.17282405 0.17187226 0.16541014\n",
            " 0.16571071 0.16681277 0.16095178 0.15040701 0.15373826 0.15892298\n",
            " 0.16012523 0.16814026 0.17715717 0.17485285 0.18131497 0.18780213\n",
            " 0.19048215 0.1892799  0.19927364 0.19526612 0.20187852 0.2033062\n",
            " 0.20756418 0.20751409 0.21192235 0.20989355 0.2115717  0.2082154\n",
            " 0.20776456 0.20929242 0.20671259 0.20816531 0.21139637 0.20686287\n",
            " 0.21685661 0.21410144 0.2189856  0.22259236 0.21625548 0.22008766\n",
            " 0.22822793 0.22860363 0.2272511  0.22304321 0.22567314 0.22038823\n",
            " 0.22001252 0.21730745 0.21592987 0.21618034 0.21725736 0.21462743\n",
            " 0.19737007 0.19388854 0.18802755 0.20072778 0.19753028 0.19507714\n",
            " 0.19308242 0.19130884 0.18961574 0.18793789]\n",
            "7 day output [[0.18625498]]\n",
            "8 day input [0.17417658 0.17976205 0.18371947 0.19356293 0.20240451 0.20295554\n",
            " 0.20693801 0.20753914 0.19053225 0.17713212 0.17868503 0.18164058\n",
            " 0.17397621 0.16874139 0.17257358 0.17074515 0.17815905 0.18091421\n",
            " 0.1719474  0.16804008 0.17019411 0.17342517 0.16310582 0.15927364\n",
            " 0.15992486 0.1612273  0.16758923 0.16420789 0.16736381 0.17049468\n",
            " 0.17695679 0.18071384 0.17921102 0.18274264 0.18502192 0.18036318\n",
            " 0.18003757 0.1761052  0.17282405 0.17187226 0.16541014 0.16571071\n",
            " 0.16681277 0.16095178 0.15040701 0.15373826 0.15892298 0.16012523\n",
            " 0.16814026 0.17715717 0.17485285 0.18131497 0.18780213 0.19048215\n",
            " 0.1892799  0.19927364 0.19526612 0.20187852 0.2033062  0.20756418\n",
            " 0.20751409 0.21192235 0.20989355 0.2115717  0.2082154  0.20776456\n",
            " 0.20929242 0.20671259 0.20816531 0.21139637 0.20686287 0.21685661\n",
            " 0.21410144 0.2189856  0.22259236 0.21625548 0.22008766 0.22822793\n",
            " 0.22860363 0.2272511  0.22304321 0.22567314 0.22038823 0.22001252\n",
            " 0.21730745 0.21592987 0.21618034 0.21725736 0.21462743 0.19737007\n",
            " 0.19388854 0.18802755 0.20072778 0.19753028 0.19507714 0.19308242\n",
            " 0.19130884 0.18961574 0.18793789 0.18625498]\n",
            "8 day output [[0.18456843]]\n",
            "9 day input [0.17976205 0.18371947 0.19356293 0.20240451 0.20295554 0.20693801\n",
            " 0.20753914 0.19053225 0.17713212 0.17868503 0.18164058 0.17397621\n",
            " 0.16874139 0.17257358 0.17074515 0.17815905 0.18091421 0.1719474\n",
            " 0.16804008 0.17019411 0.17342517 0.16310582 0.15927364 0.15992486\n",
            " 0.1612273  0.16758923 0.16420789 0.16736381 0.17049468 0.17695679\n",
            " 0.18071384 0.17921102 0.18274264 0.18502192 0.18036318 0.18003757\n",
            " 0.1761052  0.17282405 0.17187226 0.16541014 0.16571071 0.16681277\n",
            " 0.16095178 0.15040701 0.15373826 0.15892298 0.16012523 0.16814026\n",
            " 0.17715717 0.17485285 0.18131497 0.18780213 0.19048215 0.1892799\n",
            " 0.19927364 0.19526612 0.20187852 0.2033062  0.20756418 0.20751409\n",
            " 0.21192235 0.20989355 0.2115717  0.2082154  0.20776456 0.20929242\n",
            " 0.20671259 0.20816531 0.21139637 0.20686287 0.21685661 0.21410144\n",
            " 0.2189856  0.22259236 0.21625548 0.22008766 0.22822793 0.22860363\n",
            " 0.2272511  0.22304321 0.22567314 0.22038823 0.22001252 0.21730745\n",
            " 0.21592987 0.21618034 0.21725736 0.21462743 0.19737007 0.19388854\n",
            " 0.18802755 0.20072778 0.19753028 0.19507714 0.19308242 0.19130884\n",
            " 0.18961574 0.18793789 0.18625498 0.18456843]\n",
            "9 day output [[0.18288724]]\n",
            "10 day input [0.18371947 0.19356293 0.20240451 0.20295554 0.20693801 0.20753914\n",
            " 0.19053225 0.17713212 0.17868503 0.18164058 0.17397621 0.16874139\n",
            " 0.17257358 0.17074515 0.17815905 0.18091421 0.1719474  0.16804008\n",
            " 0.17019411 0.17342517 0.16310582 0.15927364 0.15992486 0.1612273\n",
            " 0.16758923 0.16420789 0.16736381 0.17049468 0.17695679 0.18071384\n",
            " 0.17921102 0.18274264 0.18502192 0.18036318 0.18003757 0.1761052\n",
            " 0.17282405 0.17187226 0.16541014 0.16571071 0.16681277 0.16095178\n",
            " 0.15040701 0.15373826 0.15892298 0.16012523 0.16814026 0.17715717\n",
            " 0.17485285 0.18131497 0.18780213 0.19048215 0.1892799  0.19927364\n",
            " 0.19526612 0.20187852 0.2033062  0.20756418 0.20751409 0.21192235\n",
            " 0.20989355 0.2115717  0.2082154  0.20776456 0.20929242 0.20671259\n",
            " 0.20816531 0.21139637 0.20686287 0.21685661 0.21410144 0.2189856\n",
            " 0.22259236 0.21625548 0.22008766 0.22822793 0.22860363 0.2272511\n",
            " 0.22304321 0.22567314 0.22038823 0.22001252 0.21730745 0.21592987\n",
            " 0.21618034 0.21725736 0.21462743 0.19737007 0.19388854 0.18802755\n",
            " 0.20072778 0.19753028 0.19507714 0.19308242 0.19130884 0.18961574\n",
            " 0.18793789 0.18625498 0.18456843 0.18288724]\n",
            "10 day output [[0.18122122]]\n",
            "11 day input [0.19356293 0.20240451 0.20295554 0.20693801 0.20753914 0.19053225\n",
            " 0.17713212 0.17868503 0.18164058 0.17397621 0.16874139 0.17257358\n",
            " 0.17074515 0.17815905 0.18091421 0.1719474  0.16804008 0.17019411\n",
            " 0.17342517 0.16310582 0.15927364 0.15992486 0.1612273  0.16758923\n",
            " 0.16420789 0.16736381 0.17049468 0.17695679 0.18071384 0.17921102\n",
            " 0.18274264 0.18502192 0.18036318 0.18003757 0.1761052  0.17282405\n",
            " 0.17187226 0.16541014 0.16571071 0.16681277 0.16095178 0.15040701\n",
            " 0.15373826 0.15892298 0.16012523 0.16814026 0.17715717 0.17485285\n",
            " 0.18131497 0.18780213 0.19048215 0.1892799  0.19927364 0.19526612\n",
            " 0.20187852 0.2033062  0.20756418 0.20751409 0.21192235 0.20989355\n",
            " 0.2115717  0.2082154  0.20776456 0.20929242 0.20671259 0.20816531\n",
            " 0.21139637 0.20686287 0.21685661 0.21410144 0.2189856  0.22259236\n",
            " 0.21625548 0.22008766 0.22822793 0.22860363 0.2272511  0.22304321\n",
            " 0.22567314 0.22038823 0.22001252 0.21730745 0.21592987 0.21618034\n",
            " 0.21725736 0.21462743 0.19737007 0.19388854 0.18802755 0.20072778\n",
            " 0.19753028 0.19507714 0.19308242 0.19130884 0.18961574 0.18793789\n",
            " 0.18625498 0.18456843 0.18288724 0.18122122]\n",
            "11 day output [[0.17957759]]\n",
            "12 day input [0.20240451 0.20295554 0.20693801 0.20753914 0.19053225 0.17713212\n",
            " 0.17868503 0.18164058 0.17397621 0.16874139 0.17257358 0.17074515\n",
            " 0.17815905 0.18091421 0.1719474  0.16804008 0.17019411 0.17342517\n",
            " 0.16310582 0.15927364 0.15992486 0.1612273  0.16758923 0.16420789\n",
            " 0.16736381 0.17049468 0.17695679 0.18071384 0.17921102 0.18274264\n",
            " 0.18502192 0.18036318 0.18003757 0.1761052  0.17282405 0.17187226\n",
            " 0.16541014 0.16571071 0.16681277 0.16095178 0.15040701 0.15373826\n",
            " 0.15892298 0.16012523 0.16814026 0.17715717 0.17485285 0.18131497\n",
            " 0.18780213 0.19048215 0.1892799  0.19927364 0.19526612 0.20187852\n",
            " 0.2033062  0.20756418 0.20751409 0.21192235 0.20989355 0.2115717\n",
            " 0.2082154  0.20776456 0.20929242 0.20671259 0.20816531 0.21139637\n",
            " 0.20686287 0.21685661 0.21410144 0.2189856  0.22259236 0.21625548\n",
            " 0.22008766 0.22822793 0.22860363 0.2272511  0.22304321 0.22567314\n",
            " 0.22038823 0.22001252 0.21730745 0.21592987 0.21618034 0.21725736\n",
            " 0.21462743 0.19737007 0.19388854 0.18802755 0.20072778 0.19753028\n",
            " 0.19507714 0.19308242 0.19130884 0.18961574 0.18793789 0.18625498\n",
            " 0.18456843 0.18288724 0.18122122 0.17957759]\n",
            "12 day output [[0.17796022]]\n",
            "13 day input [0.20295554 0.20693801 0.20753914 0.19053225 0.17713212 0.17868503\n",
            " 0.18164058 0.17397621 0.16874139 0.17257358 0.17074515 0.17815905\n",
            " 0.18091421 0.1719474  0.16804008 0.17019411 0.17342517 0.16310582\n",
            " 0.15927364 0.15992486 0.1612273  0.16758923 0.16420789 0.16736381\n",
            " 0.17049468 0.17695679 0.18071384 0.17921102 0.18274264 0.18502192\n",
            " 0.18036318 0.18003757 0.1761052  0.17282405 0.17187226 0.16541014\n",
            " 0.16571071 0.16681277 0.16095178 0.15040701 0.15373826 0.15892298\n",
            " 0.16012523 0.16814026 0.17715717 0.17485285 0.18131497 0.18780213\n",
            " 0.19048215 0.1892799  0.19927364 0.19526612 0.20187852 0.2033062\n",
            " 0.20756418 0.20751409 0.21192235 0.20989355 0.2115717  0.2082154\n",
            " 0.20776456 0.20929242 0.20671259 0.20816531 0.21139637 0.20686287\n",
            " 0.21685661 0.21410144 0.2189856  0.22259236 0.21625548 0.22008766\n",
            " 0.22822793 0.22860363 0.2272511  0.22304321 0.22567314 0.22038823\n",
            " 0.22001252 0.21730745 0.21592987 0.21618034 0.21725736 0.21462743\n",
            " 0.19737007 0.19388854 0.18802755 0.20072778 0.19753028 0.19507714\n",
            " 0.19308242 0.19130884 0.18961574 0.18793789 0.18625498 0.18456843\n",
            " 0.18288724 0.18122122 0.17957759 0.17796022]\n",
            "13 day output [[0.17636962]]\n",
            "14 day input [0.20693801 0.20753914 0.19053225 0.17713212 0.17868503 0.18164058\n",
            " 0.17397621 0.16874139 0.17257358 0.17074515 0.17815905 0.18091421\n",
            " 0.1719474  0.16804008 0.17019411 0.17342517 0.16310582 0.15927364\n",
            " 0.15992486 0.1612273  0.16758923 0.16420789 0.16736381 0.17049468\n",
            " 0.17695679 0.18071384 0.17921102 0.18274264 0.18502192 0.18036318\n",
            " 0.18003757 0.1761052  0.17282405 0.17187226 0.16541014 0.16571071\n",
            " 0.16681277 0.16095178 0.15040701 0.15373826 0.15892298 0.16012523\n",
            " 0.16814026 0.17715717 0.17485285 0.18131497 0.18780213 0.19048215\n",
            " 0.1892799  0.19927364 0.19526612 0.20187852 0.2033062  0.20756418\n",
            " 0.20751409 0.21192235 0.20989355 0.2115717  0.2082154  0.20776456\n",
            " 0.20929242 0.20671259 0.20816531 0.21139637 0.20686287 0.21685661\n",
            " 0.21410144 0.2189856  0.22259236 0.21625548 0.22008766 0.22822793\n",
            " 0.22860363 0.2272511  0.22304321 0.22567314 0.22038823 0.22001252\n",
            " 0.21730745 0.21592987 0.21618034 0.21725736 0.21462743 0.19737007\n",
            " 0.19388854 0.18802755 0.20072778 0.19753028 0.19507714 0.19308242\n",
            " 0.19130884 0.18961574 0.18793789 0.18625498 0.18456843 0.18288724\n",
            " 0.18122122 0.17957759 0.17796022 0.17636962]\n",
            "14 day output [[0.17480394]]\n",
            "15 day input [0.20753914 0.19053225 0.17713212 0.17868503 0.18164058 0.17397621\n",
            " 0.16874139 0.17257358 0.17074515 0.17815905 0.18091421 0.1719474\n",
            " 0.16804008 0.17019411 0.17342517 0.16310582 0.15927364 0.15992486\n",
            " 0.1612273  0.16758923 0.16420789 0.16736381 0.17049468 0.17695679\n",
            " 0.18071384 0.17921102 0.18274264 0.18502192 0.18036318 0.18003757\n",
            " 0.1761052  0.17282405 0.17187226 0.16541014 0.16571071 0.16681277\n",
            " 0.16095178 0.15040701 0.15373826 0.15892298 0.16012523 0.16814026\n",
            " 0.17715717 0.17485285 0.18131497 0.18780213 0.19048215 0.1892799\n",
            " 0.19927364 0.19526612 0.20187852 0.2033062  0.20756418 0.20751409\n",
            " 0.21192235 0.20989355 0.2115717  0.2082154  0.20776456 0.20929242\n",
            " 0.20671259 0.20816531 0.21139637 0.20686287 0.21685661 0.21410144\n",
            " 0.2189856  0.22259236 0.21625548 0.22008766 0.22822793 0.22860363\n",
            " 0.2272511  0.22304321 0.22567314 0.22038823 0.22001252 0.21730745\n",
            " 0.21592987 0.21618034 0.21725736 0.21462743 0.19737007 0.19388854\n",
            " 0.18802755 0.20072778 0.19753028 0.19507714 0.19308242 0.19130884\n",
            " 0.18961574 0.18793789 0.18625498 0.18456843 0.18288724 0.18122122\n",
            " 0.17957759 0.17796022 0.17636962 0.17480394]\n",
            "15 day output [[0.17325932]]\n",
            "16 day input [0.19053225 0.17713212 0.17868503 0.18164058 0.17397621 0.16874139\n",
            " 0.17257358 0.17074515 0.17815905 0.18091421 0.1719474  0.16804008\n",
            " 0.17019411 0.17342517 0.16310582 0.15927364 0.15992486 0.1612273\n",
            " 0.16758923 0.16420789 0.16736381 0.17049468 0.17695679 0.18071384\n",
            " 0.17921102 0.18274264 0.18502192 0.18036318 0.18003757 0.1761052\n",
            " 0.17282405 0.17187226 0.16541014 0.16571071 0.16681277 0.16095178\n",
            " 0.15040701 0.15373826 0.15892298 0.16012523 0.16814026 0.17715717\n",
            " 0.17485285 0.18131497 0.18780213 0.19048215 0.1892799  0.19927364\n",
            " 0.19526612 0.20187852 0.2033062  0.20756418 0.20751409 0.21192235\n",
            " 0.20989355 0.2115717  0.2082154  0.20776456 0.20929242 0.20671259\n",
            " 0.20816531 0.21139637 0.20686287 0.21685661 0.21410144 0.2189856\n",
            " 0.22259236 0.21625548 0.22008766 0.22822793 0.22860363 0.2272511\n",
            " 0.22304321 0.22567314 0.22038823 0.22001252 0.21730745 0.21592987\n",
            " 0.21618034 0.21725736 0.21462743 0.19737007 0.19388854 0.18802755\n",
            " 0.20072778 0.19753028 0.19507714 0.19308242 0.19130884 0.18961574\n",
            " 0.18793789 0.18625498 0.18456843 0.18288724 0.18122122 0.17957759\n",
            " 0.17796022 0.17636962 0.17480394 0.17325932]\n",
            "16 day output [[0.17173098]]\n",
            "17 day input [0.17713212 0.17868503 0.18164058 0.17397621 0.16874139 0.17257358\n",
            " 0.17074515 0.17815905 0.18091421 0.1719474  0.16804008 0.17019411\n",
            " 0.17342517 0.16310582 0.15927364 0.15992486 0.1612273  0.16758923\n",
            " 0.16420789 0.16736381 0.17049468 0.17695679 0.18071384 0.17921102\n",
            " 0.18274264 0.18502192 0.18036318 0.18003757 0.1761052  0.17282405\n",
            " 0.17187226 0.16541014 0.16571071 0.16681277 0.16095178 0.15040701\n",
            " 0.15373826 0.15892298 0.16012523 0.16814026 0.17715717 0.17485285\n",
            " 0.18131497 0.18780213 0.19048215 0.1892799  0.19927364 0.19526612\n",
            " 0.20187852 0.2033062  0.20756418 0.20751409 0.21192235 0.20989355\n",
            " 0.2115717  0.2082154  0.20776456 0.20929242 0.20671259 0.20816531\n",
            " 0.21139637 0.20686287 0.21685661 0.21410144 0.2189856  0.22259236\n",
            " 0.21625548 0.22008766 0.22822793 0.22860363 0.2272511  0.22304321\n",
            " 0.22567314 0.22038823 0.22001252 0.21730745 0.21592987 0.21618034\n",
            " 0.21725736 0.21462743 0.19737007 0.19388854 0.18802755 0.20072778\n",
            " 0.19753028 0.19507714 0.19308242 0.19130884 0.18961574 0.18793789\n",
            " 0.18625498 0.18456843 0.18288724 0.18122122 0.17957759 0.17796022\n",
            " 0.17636962 0.17480394 0.17325932 0.17173098]\n",
            "17 day output [[0.17021382]]\n",
            "18 day input [0.17868503 0.18164058 0.17397621 0.16874139 0.17257358 0.17074515\n",
            " 0.17815905 0.18091421 0.1719474  0.16804008 0.17019411 0.17342517\n",
            " 0.16310582 0.15927364 0.15992486 0.1612273  0.16758923 0.16420789\n",
            " 0.16736381 0.17049468 0.17695679 0.18071384 0.17921102 0.18274264\n",
            " 0.18502192 0.18036318 0.18003757 0.1761052  0.17282405 0.17187226\n",
            " 0.16541014 0.16571071 0.16681277 0.16095178 0.15040701 0.15373826\n",
            " 0.15892298 0.16012523 0.16814026 0.17715717 0.17485285 0.18131497\n",
            " 0.18780213 0.19048215 0.1892799  0.19927364 0.19526612 0.20187852\n",
            " 0.2033062  0.20756418 0.20751409 0.21192235 0.20989355 0.2115717\n",
            " 0.2082154  0.20776456 0.20929242 0.20671259 0.20816531 0.21139637\n",
            " 0.20686287 0.21685661 0.21410144 0.2189856  0.22259236 0.21625548\n",
            " 0.22008766 0.22822793 0.22860363 0.2272511  0.22304321 0.22567314\n",
            " 0.22038823 0.22001252 0.21730745 0.21592987 0.21618034 0.21725736\n",
            " 0.21462743 0.19737007 0.19388854 0.18802755 0.20072778 0.19753028\n",
            " 0.19507714 0.19308242 0.19130884 0.18961574 0.18793789 0.18625498\n",
            " 0.18456843 0.18288724 0.18122122 0.17957759 0.17796022 0.17636962\n",
            " 0.17480394 0.17325932 0.17173098 0.17021382]\n",
            "18 day output [[0.1687032]]\n",
            "19 day input [0.18164058 0.17397621 0.16874139 0.17257358 0.17074515 0.17815905\n",
            " 0.18091421 0.1719474  0.16804008 0.17019411 0.17342517 0.16310582\n",
            " 0.15927364 0.15992486 0.1612273  0.16758923 0.16420789 0.16736381\n",
            " 0.17049468 0.17695679 0.18071384 0.17921102 0.18274264 0.18502192\n",
            " 0.18036318 0.18003757 0.1761052  0.17282405 0.17187226 0.16541014\n",
            " 0.16571071 0.16681277 0.16095178 0.15040701 0.15373826 0.15892298\n",
            " 0.16012523 0.16814026 0.17715717 0.17485285 0.18131497 0.18780213\n",
            " 0.19048215 0.1892799  0.19927364 0.19526612 0.20187852 0.2033062\n",
            " 0.20756418 0.20751409 0.21192235 0.20989355 0.2115717  0.2082154\n",
            " 0.20776456 0.20929242 0.20671259 0.20816531 0.21139637 0.20686287\n",
            " 0.21685661 0.21410144 0.2189856  0.22259236 0.21625548 0.22008766\n",
            " 0.22822793 0.22860363 0.2272511  0.22304321 0.22567314 0.22038823\n",
            " 0.22001252 0.21730745 0.21592987 0.21618034 0.21725736 0.21462743\n",
            " 0.19737007 0.19388854 0.18802755 0.20072778 0.19753028 0.19507714\n",
            " 0.19308242 0.19130884 0.18961574 0.18793789 0.18625498 0.18456843\n",
            " 0.18288724 0.18122122 0.17957759 0.17796022 0.17636962 0.17480394\n",
            " 0.17325932 0.17173098 0.17021382 0.1687032 ]\n",
            "19 day output [[0.167195]]\n",
            "20 day input [0.17397621 0.16874139 0.17257358 0.17074515 0.17815905 0.18091421\n",
            " 0.1719474  0.16804008 0.17019411 0.17342517 0.16310582 0.15927364\n",
            " 0.15992486 0.1612273  0.16758923 0.16420789 0.16736381 0.17049468\n",
            " 0.17695679 0.18071384 0.17921102 0.18274264 0.18502192 0.18036318\n",
            " 0.18003757 0.1761052  0.17282405 0.17187226 0.16541014 0.16571071\n",
            " 0.16681277 0.16095178 0.15040701 0.15373826 0.15892298 0.16012523\n",
            " 0.16814026 0.17715717 0.17485285 0.18131497 0.18780213 0.19048215\n",
            " 0.1892799  0.19927364 0.19526612 0.20187852 0.2033062  0.20756418\n",
            " 0.20751409 0.21192235 0.20989355 0.2115717  0.2082154  0.20776456\n",
            " 0.20929242 0.20671259 0.20816531 0.21139637 0.20686287 0.21685661\n",
            " 0.21410144 0.2189856  0.22259236 0.21625548 0.22008766 0.22822793\n",
            " 0.22860363 0.2272511  0.22304321 0.22567314 0.22038823 0.22001252\n",
            " 0.21730745 0.21592987 0.21618034 0.21725736 0.21462743 0.19737007\n",
            " 0.19388854 0.18802755 0.20072778 0.19753028 0.19507714 0.19308242\n",
            " 0.19130884 0.18961574 0.18793789 0.18625498 0.18456843 0.18288724\n",
            " 0.18122122 0.17957759 0.17796022 0.17636962 0.17480394 0.17325932\n",
            " 0.17173098 0.17021382 0.1687032  0.16719501]\n",
            "20 day output [[0.16568646]]\n",
            "21 day input [0.16874139 0.17257358 0.17074515 0.17815905 0.18091421 0.1719474\n",
            " 0.16804008 0.17019411 0.17342517 0.16310582 0.15927364 0.15992486\n",
            " 0.1612273  0.16758923 0.16420789 0.16736381 0.17049468 0.17695679\n",
            " 0.18071384 0.17921102 0.18274264 0.18502192 0.18036318 0.18003757\n",
            " 0.1761052  0.17282405 0.17187226 0.16541014 0.16571071 0.16681277\n",
            " 0.16095178 0.15040701 0.15373826 0.15892298 0.16012523 0.16814026\n",
            " 0.17715717 0.17485285 0.18131497 0.18780213 0.19048215 0.1892799\n",
            " 0.19927364 0.19526612 0.20187852 0.2033062  0.20756418 0.20751409\n",
            " 0.21192235 0.20989355 0.2115717  0.2082154  0.20776456 0.20929242\n",
            " 0.20671259 0.20816531 0.21139637 0.20686287 0.21685661 0.21410144\n",
            " 0.2189856  0.22259236 0.21625548 0.22008766 0.22822793 0.22860363\n",
            " 0.2272511  0.22304321 0.22567314 0.22038823 0.22001252 0.21730745\n",
            " 0.21592987 0.21618034 0.21725736 0.21462743 0.19737007 0.19388854\n",
            " 0.18802755 0.20072778 0.19753028 0.19507714 0.19308242 0.19130884\n",
            " 0.18961574 0.18793789 0.18625498 0.18456843 0.18288724 0.18122122\n",
            " 0.17957759 0.17796022 0.17636962 0.17480394 0.17325932 0.17173098\n",
            " 0.17021382 0.1687032  0.16719501 0.16568646]\n",
            "21 day output [[0.16417547]]\n",
            "22 day input [0.17257358 0.17074515 0.17815905 0.18091421 0.1719474  0.16804008\n",
            " 0.17019411 0.17342517 0.16310582 0.15927364 0.15992486 0.1612273\n",
            " 0.16758923 0.16420789 0.16736381 0.17049468 0.17695679 0.18071384\n",
            " 0.17921102 0.18274264 0.18502192 0.18036318 0.18003757 0.1761052\n",
            " 0.17282405 0.17187226 0.16541014 0.16571071 0.16681277 0.16095178\n",
            " 0.15040701 0.15373826 0.15892298 0.16012523 0.16814026 0.17715717\n",
            " 0.17485285 0.18131497 0.18780213 0.19048215 0.1892799  0.19927364\n",
            " 0.19526612 0.20187852 0.2033062  0.20756418 0.20751409 0.21192235\n",
            " 0.20989355 0.2115717  0.2082154  0.20776456 0.20929242 0.20671259\n",
            " 0.20816531 0.21139637 0.20686287 0.21685661 0.21410144 0.2189856\n",
            " 0.22259236 0.21625548 0.22008766 0.22822793 0.22860363 0.2272511\n",
            " 0.22304321 0.22567314 0.22038823 0.22001252 0.21730745 0.21592987\n",
            " 0.21618034 0.21725736 0.21462743 0.19737007 0.19388854 0.18802755\n",
            " 0.20072778 0.19753028 0.19507714 0.19308242 0.19130884 0.18961574\n",
            " 0.18793789 0.18625498 0.18456843 0.18288724 0.18122122 0.17957759\n",
            " 0.17796022 0.17636962 0.17480394 0.17325932 0.17173098 0.17021382\n",
            " 0.1687032  0.16719501 0.16568646 0.16417547]\n",
            "22 day output [[0.1626614]]\n",
            "23 day input [0.17074515 0.17815905 0.18091421 0.1719474  0.16804008 0.17019411\n",
            " 0.17342517 0.16310582 0.15927364 0.15992486 0.1612273  0.16758923\n",
            " 0.16420789 0.16736381 0.17049468 0.17695679 0.18071384 0.17921102\n",
            " 0.18274264 0.18502192 0.18036318 0.18003757 0.1761052  0.17282405\n",
            " 0.17187226 0.16541014 0.16571071 0.16681277 0.16095178 0.15040701\n",
            " 0.15373826 0.15892298 0.16012523 0.16814026 0.17715717 0.17485285\n",
            " 0.18131497 0.18780213 0.19048215 0.1892799  0.19927364 0.19526612\n",
            " 0.20187852 0.2033062  0.20756418 0.20751409 0.21192235 0.20989355\n",
            " 0.2115717  0.2082154  0.20776456 0.20929242 0.20671259 0.20816531\n",
            " 0.21139637 0.20686287 0.21685661 0.21410144 0.2189856  0.22259236\n",
            " 0.21625548 0.22008766 0.22822793 0.22860363 0.2272511  0.22304321\n",
            " 0.22567314 0.22038823 0.22001252 0.21730745 0.21592987 0.21618034\n",
            " 0.21725736 0.21462743 0.19737007 0.19388854 0.18802755 0.20072778\n",
            " 0.19753028 0.19507714 0.19308242 0.19130884 0.18961574 0.18793789\n",
            " 0.18625498 0.18456843 0.18288724 0.18122122 0.17957759 0.17796022\n",
            " 0.17636962 0.17480394 0.17325932 0.17173098 0.17021382 0.1687032\n",
            " 0.16719501 0.16568646 0.16417547 0.1626614 ]\n",
            "23 day output [[0.16114454]]\n",
            "24 day input [0.17815905 0.18091421 0.1719474  0.16804008 0.17019411 0.17342517\n",
            " 0.16310582 0.15927364 0.15992486 0.1612273  0.16758923 0.16420789\n",
            " 0.16736381 0.17049468 0.17695679 0.18071384 0.17921102 0.18274264\n",
            " 0.18502192 0.18036318 0.18003757 0.1761052  0.17282405 0.17187226\n",
            " 0.16541014 0.16571071 0.16681277 0.16095178 0.15040701 0.15373826\n",
            " 0.15892298 0.16012523 0.16814026 0.17715717 0.17485285 0.18131497\n",
            " 0.18780213 0.19048215 0.1892799  0.19927364 0.19526612 0.20187852\n",
            " 0.2033062  0.20756418 0.20751409 0.21192235 0.20989355 0.2115717\n",
            " 0.2082154  0.20776456 0.20929242 0.20671259 0.20816531 0.21139637\n",
            " 0.20686287 0.21685661 0.21410144 0.2189856  0.22259236 0.21625548\n",
            " 0.22008766 0.22822793 0.22860363 0.2272511  0.22304321 0.22567314\n",
            " 0.22038823 0.22001252 0.21730745 0.21592987 0.21618034 0.21725736\n",
            " 0.21462743 0.19737007 0.19388854 0.18802755 0.20072778 0.19753028\n",
            " 0.19507714 0.19308242 0.19130884 0.18961574 0.18793789 0.18625498\n",
            " 0.18456843 0.18288724 0.18122122 0.17957759 0.17796022 0.17636962\n",
            " 0.17480394 0.17325932 0.17173098 0.17021382 0.1687032  0.16719501\n",
            " 0.16568646 0.16417547 0.1626614  0.16114454]\n",
            "24 day output [[0.15962595]]\n",
            "25 day input [0.18091421 0.1719474  0.16804008 0.17019411 0.17342517 0.16310582\n",
            " 0.15927364 0.15992486 0.1612273  0.16758923 0.16420789 0.16736381\n",
            " 0.17049468 0.17695679 0.18071384 0.17921102 0.18274264 0.18502192\n",
            " 0.18036318 0.18003757 0.1761052  0.17282405 0.17187226 0.16541014\n",
            " 0.16571071 0.16681277 0.16095178 0.15040701 0.15373826 0.15892298\n",
            " 0.16012523 0.16814026 0.17715717 0.17485285 0.18131497 0.18780213\n",
            " 0.19048215 0.1892799  0.19927364 0.19526612 0.20187852 0.2033062\n",
            " 0.20756418 0.20751409 0.21192235 0.20989355 0.2115717  0.2082154\n",
            " 0.20776456 0.20929242 0.20671259 0.20816531 0.21139637 0.20686287\n",
            " 0.21685661 0.21410144 0.2189856  0.22259236 0.21625548 0.22008766\n",
            " 0.22822793 0.22860363 0.2272511  0.22304321 0.22567314 0.22038823\n",
            " 0.22001252 0.21730745 0.21592987 0.21618034 0.21725736 0.21462743\n",
            " 0.19737007 0.19388854 0.18802755 0.20072778 0.19753028 0.19507714\n",
            " 0.19308242 0.19130884 0.18961574 0.18793789 0.18625498 0.18456843\n",
            " 0.18288724 0.18122122 0.17957759 0.17796022 0.17636962 0.17480394\n",
            " 0.17325932 0.17173098 0.17021382 0.1687032  0.16719501 0.16568646\n",
            " 0.16417547 0.1626614  0.16114454 0.15962595]\n",
            "25 day output [[0.15810727]]\n",
            "26 day input [0.1719474  0.16804008 0.17019411 0.17342517 0.16310582 0.15927364\n",
            " 0.15992486 0.1612273  0.16758923 0.16420789 0.16736381 0.17049468\n",
            " 0.17695679 0.18071384 0.17921102 0.18274264 0.18502192 0.18036318\n",
            " 0.18003757 0.1761052  0.17282405 0.17187226 0.16541014 0.16571071\n",
            " 0.16681277 0.16095178 0.15040701 0.15373826 0.15892298 0.16012523\n",
            " 0.16814026 0.17715717 0.17485285 0.18131497 0.18780213 0.19048215\n",
            " 0.1892799  0.19927364 0.19526612 0.20187852 0.2033062  0.20756418\n",
            " 0.20751409 0.21192235 0.20989355 0.2115717  0.2082154  0.20776456\n",
            " 0.20929242 0.20671259 0.20816531 0.21139637 0.20686287 0.21685661\n",
            " 0.21410144 0.2189856  0.22259236 0.21625548 0.22008766 0.22822793\n",
            " 0.22860363 0.2272511  0.22304321 0.22567314 0.22038823 0.22001252\n",
            " 0.21730745 0.21592987 0.21618034 0.21725736 0.21462743 0.19737007\n",
            " 0.19388854 0.18802755 0.20072778 0.19753028 0.19507714 0.19308242\n",
            " 0.19130884 0.18961574 0.18793789 0.18625498 0.18456843 0.18288724\n",
            " 0.18122122 0.17957759 0.17796022 0.17636962 0.17480394 0.17325932\n",
            " 0.17173098 0.17021382 0.1687032  0.16719501 0.16568646 0.16417547\n",
            " 0.1626614  0.16114454 0.15962595 0.15810727]\n",
            "26 day output [[0.15659058]]\n",
            "27 day input [0.16804008 0.17019411 0.17342517 0.16310582 0.15927364 0.15992486\n",
            " 0.1612273  0.16758923 0.16420789 0.16736381 0.17049468 0.17695679\n",
            " 0.18071384 0.17921102 0.18274264 0.18502192 0.18036318 0.18003757\n",
            " 0.1761052  0.17282405 0.17187226 0.16541014 0.16571071 0.16681277\n",
            " 0.16095178 0.15040701 0.15373826 0.15892298 0.16012523 0.16814026\n",
            " 0.17715717 0.17485285 0.18131497 0.18780213 0.19048215 0.1892799\n",
            " 0.19927364 0.19526612 0.20187852 0.2033062  0.20756418 0.20751409\n",
            " 0.21192235 0.20989355 0.2115717  0.2082154  0.20776456 0.20929242\n",
            " 0.20671259 0.20816531 0.21139637 0.20686287 0.21685661 0.21410144\n",
            " 0.2189856  0.22259236 0.21625548 0.22008766 0.22822793 0.22860363\n",
            " 0.2272511  0.22304321 0.22567314 0.22038823 0.22001252 0.21730745\n",
            " 0.21592987 0.21618034 0.21725736 0.21462743 0.19737007 0.19388854\n",
            " 0.18802755 0.20072778 0.19753028 0.19507714 0.19308242 0.19130884\n",
            " 0.18961574 0.18793789 0.18625498 0.18456843 0.18288724 0.18122122\n",
            " 0.17957759 0.17796022 0.17636962 0.17480394 0.17325932 0.17173098\n",
            " 0.17021382 0.1687032  0.16719501 0.16568646 0.16417547 0.1626614\n",
            " 0.16114454 0.15962595 0.15810727 0.15659058]\n",
            "27 day output [[0.15507819]]\n",
            "28 day input [0.17019411 0.17342517 0.16310582 0.15927364 0.15992486 0.1612273\n",
            " 0.16758923 0.16420789 0.16736381 0.17049468 0.17695679 0.18071384\n",
            " 0.17921102 0.18274264 0.18502192 0.18036318 0.18003757 0.1761052\n",
            " 0.17282405 0.17187226 0.16541014 0.16571071 0.16681277 0.16095178\n",
            " 0.15040701 0.15373826 0.15892298 0.16012523 0.16814026 0.17715717\n",
            " 0.17485285 0.18131497 0.18780213 0.19048215 0.1892799  0.19927364\n",
            " 0.19526612 0.20187852 0.2033062  0.20756418 0.20751409 0.21192235\n",
            " 0.20989355 0.2115717  0.2082154  0.20776456 0.20929242 0.20671259\n",
            " 0.20816531 0.21139637 0.20686287 0.21685661 0.21410144 0.2189856\n",
            " 0.22259236 0.21625548 0.22008766 0.22822793 0.22860363 0.2272511\n",
            " 0.22304321 0.22567314 0.22038823 0.22001252 0.21730745 0.21592987\n",
            " 0.21618034 0.21725736 0.21462743 0.19737007 0.19388854 0.18802755\n",
            " 0.20072778 0.19753028 0.19507714 0.19308242 0.19130884 0.18961574\n",
            " 0.18793789 0.18625498 0.18456843 0.18288724 0.18122122 0.17957759\n",
            " 0.17796022 0.17636962 0.17480394 0.17325932 0.17173098 0.17021382\n",
            " 0.1687032  0.16719501 0.16568646 0.16417547 0.1626614  0.16114454\n",
            " 0.15962595 0.15810727 0.15659058 0.15507819]\n",
            "28 day output [[0.1535723]]\n",
            "29 day input [0.17342517 0.16310582 0.15927364 0.15992486 0.1612273  0.16758923\n",
            " 0.16420789 0.16736381 0.17049468 0.17695679 0.18071384 0.17921102\n",
            " 0.18274264 0.18502192 0.18036318 0.18003757 0.1761052  0.17282405\n",
            " 0.17187226 0.16541014 0.16571071 0.16681277 0.16095178 0.15040701\n",
            " 0.15373826 0.15892298 0.16012523 0.16814026 0.17715717 0.17485285\n",
            " 0.18131497 0.18780213 0.19048215 0.1892799  0.19927364 0.19526612\n",
            " 0.20187852 0.2033062  0.20756418 0.20751409 0.21192235 0.20989355\n",
            " 0.2115717  0.2082154  0.20776456 0.20929242 0.20671259 0.20816531\n",
            " 0.21139637 0.20686287 0.21685661 0.21410144 0.2189856  0.22259236\n",
            " 0.21625548 0.22008766 0.22822793 0.22860363 0.2272511  0.22304321\n",
            " 0.22567314 0.22038823 0.22001252 0.21730745 0.21592987 0.21618034\n",
            " 0.21725736 0.21462743 0.19737007 0.19388854 0.18802755 0.20072778\n",
            " 0.19753028 0.19507714 0.19308242 0.19130884 0.18961574 0.18793789\n",
            " 0.18625498 0.18456843 0.18288724 0.18122122 0.17957759 0.17796022\n",
            " 0.17636962 0.17480394 0.17325932 0.17173098 0.17021382 0.1687032\n",
            " 0.16719501 0.16568646 0.16417547 0.1626614  0.16114454 0.15962595\n",
            " 0.15810727 0.15659058 0.15507819 0.15357231]\n",
            "29 day output [[0.15207504]]\n",
            "[[0.20072777569293976], [0.19753028452396393], [0.19507713615894318], [0.19308242201805115], [0.19130884110927582], [0.18961574137210846], [0.1879378855228424], [0.18625497817993164], [0.18456843495368958], [0.1828872412443161], [0.18122121691703796], [0.17957758903503418], [0.17796021699905396], [0.17636962234973907], [0.1748039424419403], [0.17325931787490845], [0.17173098027706146], [0.17021381855010986], [0.16870319843292236], [0.16719500720500946], [0.1656864583492279], [0.16417546570301056], [0.16266140341758728], [0.16114453971385956], [0.15962594747543335], [0.15810726583003998], [0.15659058094024658], [0.15507818758487701], [0.15357230603694916], [0.15207503736019135]]\n"
          ]
        }
      ]
    },
    {
      "cell_type": "code",
      "source": [
        "day_new=np.arange(1,101)\n",
        "day_pred=np.arange(101,131)"
      ],
      "metadata": {
        "id": "n1HljGLYwOUB"
      },
      "execution_count": 68,
      "outputs": []
    },
    {
      "cell_type": "code",
      "source": [
        "import matplotlib.pyplot as plt"
      ],
      "metadata": {
        "id": "RI9J-zzjw142"
      },
      "execution_count": 69,
      "outputs": []
    },
    {
      "cell_type": "code",
      "source": [
        "len(df2)"
      ],
      "metadata": {
        "colab": {
          "base_uri": "https://localhost:8080/"
        },
        "id": "cmDI-B3Tw6Ja",
        "outputId": "f36bb50b-57f7-459f-8b96-ae30465f7ef5"
      },
      "execution_count": 70,
      "outputs": [
        {
          "output_type": "execute_result",
          "data": {
            "text/plain": [
              "1258"
            ]
          },
          "metadata": {},
          "execution_count": 70
        }
      ]
    },
    {
      "cell_type": "code",
      "source": [
        "df3 = df2.tolist()\n",
        "df3.extend(lst_output)"
      ],
      "metadata": {
        "id": "AfrZdJJ1xBZb"
      },
      "execution_count": 71,
      "outputs": []
    },
    {
      "cell_type": "code",
      "source": [
        "plt.plot(day_new,scaler.inverse_transform(df2[1158:]))\n",
        "plt.plot(day_pred,scaler.inverse_transform(lst_output))"
      ],
      "metadata": {
        "colab": {
          "base_uri": "https://localhost:8080/",
          "height": 447
        },
        "id": "RzTXRT6GxI9f",
        "outputId": "7dd1b67c-50f8-4e87-d844-c6ee27d2f2b2"
      },
      "execution_count": 76,
      "outputs": [
        {
          "output_type": "execute_result",
          "data": {
            "text/plain": [
              "[<matplotlib.lines.Line2D at 0x793a91043d60>]"
            ]
          },
          "metadata": {},
          "execution_count": 76
        },
        {
          "output_type": "display_data",
          "data": {
            "text/plain": [
              "<Figure size 640x480 with 1 Axes>"
            ],
            "image/png": "[encoded data removed]"
          },
          "metadata": {}
        }
      ]
    },
    {
      "cell_type": "code",
      "source": [
        "df3=df2.tolist()\n",
        "df3.extend(lst_output)\n",
        "plt.plot(df3[1000:])"
      ],
      "metadata": {
        "colab": {
          "base_uri": "https://localhost:8080/",
          "height": 447
        },
        "id": "ohPh686rxaAj",
        "outputId": "80e7badd-e510-43f5-fb66-5323d28c5eaf"
      },
      "execution_count": 77,
      "outputs": [
        {
          "output_type": "execute_result",
          "data": {
            "text/plain": [
              "[<matplotlib.lines.Line2D at 0x793a83e6dd20>]"
            ]
          },
          "metadata": {},
          "execution_count": 77
        },
        {
          "output_type": "display_data",
          "data": {
            "text/plain": [
              "<Figure size 640x480 with 1 Axes>"
            ],
            "image/png": "[encoded data removed]"
          },
          "metadata": {}
        }
      ]
    },
    {
      "cell_type": "code",
      "source": [],
      "metadata": {
        "id": "HqbNYUbox9ic"
      },
      "execution_count": null,
      "outputs": []
    }
  ]
}